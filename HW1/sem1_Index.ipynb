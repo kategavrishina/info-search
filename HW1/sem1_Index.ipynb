{
  "nbformat": 4,
  "nbformat_minor": 0,
  "metadata": {
    "kernelspec": {
      "display_name": "Python 3",
      "language": "python",
      "name": "python3"
    },
    "language_info": {
      "codemirror_mode": {
        "name": "ipython",
        "version": 3
      },
      "file_extension": ".py",
      "mimetype": "text/x-python",
      "name": "python",
      "nbconvert_exporter": "python",
      "pygments_lexer": "ipython3",
      "version": "3.7.6"
    },
    "colab": {
      "name": "sem1_Index.ipynb",
      "provenance": [],
      "include_colab_link": true
    }
  },
  "cells": [
    {
      "cell_type": "markdown",
      "metadata": {
        "id": "view-in-github",
        "colab_type": "text"
      },
      "source": [
        "<a href=\"https://colab.research.google.com/github/kategavrishina/info-search/blob/master/HW1/sem1_Index.ipynb\" target=\"_parent\"><img src=\"https://colab.research.google.com/assets/colab-badge.svg\" alt=\"Open In Colab\"/></a>"
      ]
    },
    {
      "cell_type": "markdown",
      "metadata": {
        "id": "OGlANN3QWwwg"
      },
      "source": [
        "## Семинар 1 Индекс\n",
        "\n",
        "## Intro"
      ]
    },
    {
      "cell_type": "markdown",
      "metadata": {
        "id": "SAy7oRx0Wwwk"
      },
      "source": [
        "### работа с файлами и папками"
      ]
    },
    {
      "cell_type": "code",
      "metadata": {
        "id": "0txTCnuUWwwn"
      },
      "source": [
        "import os\n",
        "\n",
        "curr_dir = os.getcwd()\n",
        "filepath = os.path.join(curr_dir, 'test.txt')"
      ],
      "execution_count": null,
      "outputs": []
    },
    {
      "cell_type": "markdown",
      "metadata": {
        "id": "qpGomC-CWww0"
      },
      "source": [
        "### os.path  \n",
        "путь до файла"
      ]
    },
    {
      "cell_type": "code",
      "metadata": {
        "id": "i7V0Cx-EWww2",
        "outputId": "281dde5b-3852-4335-a90e-1e14679b0477",
        "colab": {
          "base_uri": "https://localhost:8080/",
          "height": 70
        }
      },
      "source": [
        "# возвращает полный путь до папки/файла по имени файла / папки\n",
        "print(os.path.abspath(filepath))\n",
        "\n",
        "\n",
        "# возвращает имя файла / папки по полному пути до него\n",
        "print(os.path.basename(filepath))\n",
        "\n",
        "\n",
        "# проверить существование директории - True / False\n",
        "print(os.path.exists(curr_dir))"
      ],
      "execution_count": null,
      "outputs": [
        {
          "output_type": "stream",
          "text": [
            "/content/test.txt\n",
            "test.txt\n",
            "True\n"
          ],
          "name": "stdout"
        }
      ]
    },
    {
      "cell_type": "markdown",
      "metadata": {
        "id": "6e0SPrrYWwxA"
      },
      "source": [
        "### os.listdir  \n",
        "возвращает список файлов в данной директории"
      ]
    },
    {
      "cell_type": "code",
      "metadata": {
        "id": "WzADp1KxWwxC",
        "outputId": "8142dc94-099a-480d-a406-0451084ea2f7",
        "colab": {
          "base_uri": "https://localhost:8080/",
          "height": 35
        }
      },
      "source": [
        "os.listdir(curr_dir)"
      ],
      "execution_count": null,
      "outputs": [
        {
          "output_type": "execute_result",
          "data": {
            "text/plain": [
              "['.config', 'sample_data']"
            ]
          },
          "metadata": {
            "tags": []
          },
          "execution_count": 3
        }
      ]
    },
    {
      "cell_type": "markdown",
      "metadata": {
        "id": "9BUP8D24WwxK"
      },
      "source": [
        "При обходе файлов не забывайте исключать системные директории, такие как .DS_Store"
      ]
    },
    {
      "cell_type": "markdown",
      "metadata": {
        "id": "xGC_-TcBWwxL"
      },
      "source": [
        "### os.walk\n",
        "root - начальная директория  \n",
        "dirs - список поддиректорий (папок)   \n",
        "files - список файлов в этих поддиректориях  "
      ]
    },
    {
      "cell_type": "code",
      "metadata": {
        "id": "nWwgJ_ehWwxN",
        "outputId": "b59fd0c1-df62-4593-f2cf-59ece74a3960",
        "colab": {
          "base_uri": "https://localhost:8080/",
          "height": 372
        }
      },
      "source": [
        "for root, dirs, files in os.walk(curr_dir):\n",
        "    for name in files:\n",
        "        print(os.path.join(root, name))"
      ],
      "execution_count": null,
      "outputs": [
        {
          "output_type": "stream",
          "text": [
            "/content/.config/.last_update_check.json\n",
            "/content/.config/.last_opt_in_prompt.yaml\n",
            "/content/.config/.last_survey_prompt.yaml\n",
            "/content/.config/config_sentinel\n",
            "/content/.config/gce\n",
            "/content/.config/active_config\n",
            "/content/.config/.metricsUUID\n",
            "/content/.config/logs/2020.08.27/16.38.54.457558.log\n",
            "/content/.config/logs/2020.08.27/16.38.36.398860.log\n",
            "/content/.config/logs/2020.08.27/16.39.27.968323.log\n",
            "/content/.config/logs/2020.08.27/16.39.28.581989.log\n",
            "/content/.config/logs/2020.08.27/16.39.08.060972.log\n",
            "/content/.config/logs/2020.08.27/16.39.13.109523.log\n",
            "/content/.config/configurations/config_default\n",
            "/content/sample_data/anscombe.json\n",
            "/content/sample_data/README.md\n",
            "/content/sample_data/mnist_train_small.csv\n",
            "/content/sample_data/mnist_test.csv\n",
            "/content/sample_data/california_housing_test.csv\n",
            "/content/sample_data/california_housing_train.csv\n"
          ],
          "name": "stdout"
        }
      ]
    },
    {
      "cell_type": "markdown",
      "metadata": {
        "id": "edkofGktWwxT"
      },
      "source": [
        "> __os.walk__ возвращает генератор, это значит, что получить его элементы можно только проитерировавшись по нему  \n",
        "но его легко можно превратить в list и увидеть все его значения"
      ]
    },
    {
      "cell_type": "code",
      "metadata": {
        "id": "OoUxn-kiWwxU",
        "outputId": "6a81c55e-a58a-4317-abf2-a614376cb250",
        "colab": {
          "base_uri": "https://localhost:8080/",
          "height": 515
        }
      },
      "source": [
        "list(os.walk(curr_dir))"
      ],
      "execution_count": null,
      "outputs": [
        {
          "output_type": "execute_result",
          "data": {
            "text/plain": [
              "[('/content', ['.config', 'sample_data'], []),\n",
              " ('/content/.config',\n",
              "  ['logs', 'configurations'],\n",
              "  ['.last_update_check.json',\n",
              "   '.last_opt_in_prompt.yaml',\n",
              "   '.last_survey_prompt.yaml',\n",
              "   'config_sentinel',\n",
              "   'gce',\n",
              "   'active_config',\n",
              "   '.metricsUUID']),\n",
              " ('/content/.config/logs', ['2020.08.27'], []),\n",
              " ('/content/.config/logs/2020.08.27',\n",
              "  [],\n",
              "  ['16.38.54.457558.log',\n",
              "   '16.38.36.398860.log',\n",
              "   '16.39.27.968323.log',\n",
              "   '16.39.28.581989.log',\n",
              "   '16.39.08.060972.log',\n",
              "   '16.39.13.109523.log']),\n",
              " ('/content/.config/configurations', [], ['config_default']),\n",
              " ('/content/sample_data',\n",
              "  [],\n",
              "  ['anscombe.json',\n",
              "   'README.md',\n",
              "   'mnist_train_small.csv',\n",
              "   'mnist_test.csv',\n",
              "   'california_housing_test.csv',\n",
              "   'california_housing_train.csv'])]"
            ]
          },
          "metadata": {
            "tags": []
          },
          "execution_count": 5
        }
      ]
    },
    {
      "cell_type": "markdown",
      "metadata": {
        "id": "gXsHHseeWwxb"
      },
      "source": [
        "### чтение файла "
      ]
    },
    {
      "cell_type": "markdown",
      "metadata": {
        "id": "mZrNlBxZWwxc"
      },
      "source": [
        "  "
      ]
    },
    {
      "cell_type": "code",
      "metadata": {
        "id": "nk8NQq1ZWwxd",
        "outputId": "c5861611-2bc8-4162-c646-6db3903105d7",
        "colab": {
          "base_uri": "https://localhost:8080/",
          "height": 239
        }
      },
      "source": [
        "fpath = 'test.txt'\n",
        "\n",
        "\n",
        "# одним массивом  \n",
        "with open(fpath, 'r') as f:  \n",
        "    text = f.read() \n",
        "\n",
        "    \n",
        "#по строкам, в конце каждой строки \\n  \n",
        "with open(fpath, 'r') as f:   \n",
        "    text = f.readlines() \n",
        "\n",
        "    \n",
        "#по строкам, без \\n   \n",
        "with open(fpath, 'r') as f:   \n",
        "    text = f.read().splitlines() "
      ],
      "execution_count": null,
      "outputs": [
        {
          "output_type": "error",
          "ename": "FileNotFoundError",
          "evalue": "ignored",
          "traceback": [
            "\u001b[0;31m---------------------------------------------------------------------------\u001b[0m",
            "\u001b[0;31mFileNotFoundError\u001b[0m                         Traceback (most recent call last)",
            "\u001b[0;32m<ipython-input-7-e7a4b85224c7>\u001b[0m in \u001b[0;36m<module>\u001b[0;34m()\u001b[0m\n\u001b[1;32m      3\u001b[0m \u001b[0;34m\u001b[0m\u001b[0m\n\u001b[1;32m      4\u001b[0m \u001b[0;31m# одним массивом\u001b[0m\u001b[0;34m\u001b[0m\u001b[0;34m\u001b[0m\u001b[0;34m\u001b[0m\u001b[0m\n\u001b[0;32m----> 5\u001b[0;31m \u001b[0;32mwith\u001b[0m \u001b[0mopen\u001b[0m\u001b[0;34m(\u001b[0m\u001b[0mfpath\u001b[0m\u001b[0;34m,\u001b[0m \u001b[0;34m'r'\u001b[0m\u001b[0;34m)\u001b[0m \u001b[0;32mas\u001b[0m \u001b[0mf\u001b[0m\u001b[0;34m:\u001b[0m\u001b[0;34m\u001b[0m\u001b[0;34m\u001b[0m\u001b[0m\n\u001b[0m\u001b[1;32m      6\u001b[0m     \u001b[0mtext\u001b[0m \u001b[0;34m=\u001b[0m \u001b[0mf\u001b[0m\u001b[0;34m.\u001b[0m\u001b[0mread\u001b[0m\u001b[0;34m(\u001b[0m\u001b[0;34m)\u001b[0m\u001b[0;34m\u001b[0m\u001b[0;34m\u001b[0m\u001b[0m\n\u001b[1;32m      7\u001b[0m \u001b[0;34m\u001b[0m\u001b[0m\n",
            "\u001b[0;31mFileNotFoundError\u001b[0m: [Errno 2] No such file or directory: 'test.txt'"
          ]
        }
      ]
    },
    {
      "cell_type": "markdown",
      "metadata": {
        "id": "RP4UrEN4Wwxi"
      },
      "source": [
        "Напоминание про enumerate:    \n",
        "> При итерации по списку вы можете помимо самого элемента получить его порядковый номер    \n",
        "``` for i, element in enumerate(your_list): ...  ```    \n",
        "Иногда для получения элемента делают так -  ``` your_list[i] ```, не надо так"
      ]
    },
    {
      "cell_type": "markdown",
      "metadata": {
        "id": "rarjRujIWwxj"
      },
      "source": [
        "### CountVectorizer"
      ]
    },
    {
      "cell_type": "markdown",
      "metadata": {
        "id": "7WtjtvsEWwxk"
      },
      "source": [
        "  "
      ]
    },
    {
      "cell_type": "code",
      "metadata": {
        "id": "3dxJK1f3Wwxk"
      },
      "source": [
        "from sklearn.feature_extraction.text import CountVectorizer\n",
        "import numpy as np\n",
        " \n",
        "# инициализируем\n",
        "vectorizer = CountVectorizer()\n",
        "\n",
        "# составляем корпус документов\n",
        "corpus = [\n",
        "  'слово1 слово2 слово3',\n",
        "  'слово2 слово3',\n",
        "  'слово1 слово2 слово1',\n",
        "  'слово4'\n",
        "]\n",
        "\n",
        "# считаем\n",
        "X = vectorizer.fit_transform(corpus)\n",
        " \n",
        "# получится следующая структура:\n",
        "#        | слово1 | слово2 | слово3 | слово4\n",
        "# текст1 |   1    |    1   |   1    |   0\n",
        "# текст2 |   0    |    1   |   1    |   0\n",
        "# текст3 |   2    |    1   |   0    |   0\n",
        "# текст4 |   0    |    0   |   0    |   1\n",
        " \n",
        "# чтобы получить сгенерированный словарь, из приведенной структуры CountVectorizer\n",
        "# порядок совпадает с матрицей\n",
        "vectorizer.get_feature_names()  # ['слово1', 'слово2', 'слово3', 'слово4']\n",
        " \n",
        "# чтобы узнать индекс токена в словаре\n",
        "vectorizer.vocabulary_.get('слово3') # вернет 2\n",
        " \n",
        "# показать матрицу\n",
        "X.toarray()\n",
        " \n",
        "# теперь можно быстро подсчитать вектор для нового документа\n",
        "vectorizer.transform([\"слово1 слово4 слово4\"])  # результат [[1 0 0 2]]\n",
        " \n",
        "# чтобы узнать количественное вхождение каждого слова:\n",
        "matrix_freq = np.asarray(X.sum(axis=0)).ravel()\n",
        "final_matrix = np.array([np.array(vectorizer.get_feature_names()), matrix_freq])"
      ],
      "execution_count": null,
      "outputs": []
    },
    {
      "cell_type": "code",
      "metadata": {
        "id": "wp2jRQIUYZqF",
        "outputId": "0903a8c4-f41c-49f4-e091-1c2f491de848",
        "colab": {
          "base_uri": "https://localhost:8080/",
          "height": 88
        }
      },
      "source": [
        "X.toarray()"
      ],
      "execution_count": null,
      "outputs": [
        {
          "output_type": "execute_result",
          "data": {
            "text/plain": [
              "array([[1, 1, 1, 0],\n",
              "       [0, 1, 1, 0],\n",
              "       [2, 1, 0, 0],\n",
              "       [0, 0, 0, 1]])"
            ]
          },
          "metadata": {
            "tags": []
          },
          "execution_count": 10
        }
      ]
    },
    {
      "cell_type": "markdown",
      "metadata": {
        "id": "j0k7wUROWwxn"
      },
      "source": [
        "##  Индекс \n",
        "\n",
        "Сам по себе индекс - это просто формат хранения данных, он не может осуществлять поиск. Для этого необходимо добавить к нему определенную метрику. Это может быть что-то простое типа булева поиска, а может быть что-то более специфическое или кастомное под задачу.\n",
        "\n",
        "Давайте посмотрим, что полезного можно вытащить из самого индекса.    \n",
        "По сути, индекс - это информация о частоте встречаемости слова в каждом документе.   \n",
        "Из этого можно понять, например:\n",
        "1. какое слово является самым часто употребимым / редким\n",
        "2. какие слова встречаются всегда вместе - так можно парсить твиттер, fb, форумы и отлавливать новые устойчивые выражения в речи\n",
        "3. как эти документы кластеризуются по N тематикам согласно словам, которые в них упоминаются "
      ]
    },
    {
      "cell_type": "markdown",
      "metadata": {
        "id": "ASYC7aW0Wwxo"
      },
      "source": [
        "## __Задача__: \n",
        "\n",
        "**Data:** Коллекция субтитров сезонов Друзей. Одна серия - один документ.\n",
        "\n",
        "**To do:** \n",
        "\n",
        "**1 Создайте индекс этой базы в формате json и в формате матрицы Term-Document**\n",
        "\n",
        "Компоненты вашей реализации:\n",
        "    - функция препроцессинга данных\n",
        "    - функция индексирования данных\n",
        "\n",
        "**2 С помощью обратного индекса в формате Term-Document посчитайте:** \n",
        "\n",
        "\n",
        "a) какое слово является самым частотным\n",
        "\n",
        "b) какое самым редким\n",
        "\n",
        "c) какой набор слов есть во всех документах коллекции\n",
        "\n",
        "d) кто из главных героев статистически самый популярный? \n",
        "\n",
        "\n",
        "\n",
        "[download_friends_corpus](https://yadi.sk/d/4wmU7R8JL-k_RA?w=1)"
      ]
    },
    {
      "cell_type": "markdown",
      "metadata": {
        "id": "sXAPJp64Wwxo"
      },
      "source": [
        "Напоминание про defaultdict: \n",
        "> Если ваш код предполагает использование multiple values словаря, рекомендую использовать ``` collections.defaultdict ```                          \n",
        "> Так можно избежать конструкции ``` dict.setdefault(key, default=None) ```\n",
        "\n",
        "> ```from collections import defaultdict\n",
        "d = defaultdict(list)\n",
        "d['example'].append('example1')\n",
        "d['example'].append('example2')```"
      ]
    },
    {
      "cell_type": "code",
      "metadata": {
        "id": "kpE1_XQMWwxp"
      },
      "source": [
        "### _check : в коллекции должно быть около 165 файлов"
      ],
      "execution_count": null,
      "outputs": []
    },
    {
      "cell_type": "code",
      "metadata": {
        "id": "gOdVvrb-awEu"
      },
      "source": [
        "! unzip friends-data.zip"
      ],
      "execution_count": null,
      "outputs": []
    },
    {
      "cell_type": "code",
      "metadata": {
        "id": "c1EP6Rc7k094",
        "outputId": "ae9b5356-5a07-42c3-fac4-711d6d3e193e",
        "colab": {
          "base_uri": "https://localhost:8080/",
          "height": 212
        }
      },
      "source": [
        "! pip install pymorphy2"
      ],
      "execution_count": null,
      "outputs": [
        {
          "output_type": "stream",
          "text": [
            "Collecting pymorphy2\n",
            "\u001b[?25l  Downloading https://files.pythonhosted.org/packages/a3/33/fff9675c68b5f6c63ec8c6e6ff57827dda28a1fa5b2c2d727dffff92dd47/pymorphy2-0.8-py2.py3-none-any.whl (46kB)\n",
            "\u001b[K     |████████████████████████████████| 51kB 1.6MB/s \n",
            "\u001b[?25hCollecting pymorphy2-dicts<3.0,>=2.4\n",
            "\u001b[?25l  Downloading https://files.pythonhosted.org/packages/02/51/2465fd4f72328ab50877b54777764d928da8cb15b74e2680fc1bd8cb3173/pymorphy2_dicts-2.4.393442.3710985-py2.py3-none-any.whl (7.1MB)\n",
            "\u001b[K     |████████████████████████████████| 7.1MB 4.1MB/s \n",
            "\u001b[?25hRequirement already satisfied: docopt>=0.6 in /usr/local/lib/python3.6/dist-packages (from pymorphy2) (0.6.2)\n",
            "Collecting dawg-python>=0.7\n",
            "  Downloading https://files.pythonhosted.org/packages/6a/84/ff1ce2071d4c650ec85745766c0047ccc3b5036f1d03559fd46bb38b5eeb/DAWG_Python-0.7.2-py2.py3-none-any.whl\n",
            "Installing collected packages: pymorphy2-dicts, dawg-python, pymorphy2\n",
            "Successfully installed dawg-python-0.7.2 pymorphy2-0.8 pymorphy2-dicts-2.4.393442.3710985\n"
          ],
          "name": "stdout"
        }
      ]
    },
    {
      "cell_type": "code",
      "metadata": {
        "id": "MVAaPn0Qh50w"
      },
      "source": [
        "import pymorphy2\n",
        "morph = pymorphy2.MorphAnalyzer()"
      ],
      "execution_count": null,
      "outputs": []
    },
    {
      "cell_type": "code",
      "metadata": {
        "id": "WN1lmEDsd03O"
      },
      "source": [
        "def preprocess(f):\n",
        "    sym = \"0123456789.,?!…:;()[]-_|/\\\"'«»*{}<>@#$%^&№\"\n",
        "    s = []\n",
        "    for line in f:\n",
        "        words = line.strip().lower().split()\n",
        "        for word in words:\n",
        "            word = word.strip(sym)\n",
        "            if word != '':\n",
        "                word = morph.parse(word)[0].normal_form\n",
        "                s.append(word)\n",
        "    return s"
      ],
      "execution_count": null,
      "outputs": []
    },
    {
      "cell_type": "code",
      "metadata": {
        "id": "kEgresUbdW-A"
      },
      "source": [
        "from tqdm import tqdm\n",
        "\n",
        "def index_json(files):\n",
        "    d_json = defaultdict(list)\n",
        "    for filename in tqdm(files):\n",
        "        name = filename.split(os.sep)[-1]\n",
        "        with open(filename, 'r', encoding='utf-8') as f:\n",
        "            text = preprocess(f)\n",
        "            c = Counter(text)\n",
        "            for w in c.keys():\n",
        "                d_json[w].append((name, c[w]))\n",
        "    return d_json"
      ],
      "execution_count": null,
      "outputs": []
    },
    {
      "cell_type": "code",
      "metadata": {
        "id": "upi9XCXigEml"
      },
      "source": [
        "from sklearn.feature_extraction.text import CountVectorizer\n",
        "import numpy as np\n",
        "import pandas as pd\n",
        "\n",
        "def index_matrix(files):\n",
        "\n",
        "    corpus = []\n",
        "    \n",
        "    for filename in tqdm(files):\n",
        "        with open(filename, 'r', encoding='utf-8') as f:\n",
        "            text = preprocess(f)\n",
        "            corpus.append(' '.join(text))\n",
        "\n",
        "    vectorizer = CountVectorizer()\n",
        "    X = vectorizer.fit_transform(corpus)\n",
        "\n",
        "    return pd.DataFrame(X.toarray(), index=files, columns=vectorizer.get_feature_names())"
      ],
      "execution_count": null,
      "outputs": []
    },
    {
      "cell_type": "code",
      "metadata": {
        "id": "Anq3_gNdov-6",
        "outputId": "857b4e96-87b4-499c-b76c-72d42f5dc1fa",
        "colab": {
          "base_uri": "https://localhost:8080/",
          "height": 36
        }
      },
      "source": [
        "os.sep"
      ],
      "execution_count": null,
      "outputs": [
        {
          "output_type": "execute_result",
          "data": {
            "application/vnd.google.colaboratory.intrinsic+json": {
              "type": "string"
            },
            "text/plain": [
              "'/'"
            ]
          },
          "metadata": {
            "tags": []
          },
          "execution_count": 63
        }
      ]
    },
    {
      "cell_type": "code",
      "metadata": {
        "id": "rjJRs5DKkgYv"
      },
      "source": [
        "import os\n",
        "curr_dir = os.getcwd()\n",
        "dir = os.path.join(curr_dir, 'friends-data')\n",
        "\n",
        "files = []\n",
        "for r, d, f in os.walk(dir):\n",
        "    if len(f) > 0:\n",
        "        for file in f:\n",
        "            files.append(os.path.join(r, file))"
      ],
      "execution_count": null,
      "outputs": []
    },
    {
      "cell_type": "code",
      "metadata": {
        "id": "X463slogckq6",
        "outputId": "5fbab172-6652-4851-b89d-9c5bee7cb429",
        "colab": {
          "base_uri": "https://localhost:8080/",
          "height": 35
        }
      },
      "source": [
        "j = index_json(files)"
      ],
      "execution_count": null,
      "outputs": [
        {
          "output_type": "stream",
          "text": [
            "100%|██████████| 165/165 [00:58<00:00,  2.80it/s]\n"
          ],
          "name": "stderr"
        }
      ]
    },
    {
      "cell_type": "code",
      "metadata": {
        "id": "eUXkNV6vNL-D",
        "outputId": "a7a83654-f102-4fe8-d8e4-464e3707eff1",
        "colab": {
          "base_uri": "https://localhost:8080/",
          "height": 35
        }
      },
      "source": [
        "m = index_matrix(files)"
      ],
      "execution_count": null,
      "outputs": [
        {
          "output_type": "stream",
          "text": [
            "100%|██████████| 165/165 [01:00<00:00,  2.71it/s]\n"
          ],
          "name": "stderr"
        }
      ]
    },
    {
      "cell_type": "code",
      "metadata": {
        "id": "dAqnaJcWOJmM",
        "outputId": "22cc1672-bf44-4401-c93a-fc2f01f8e1ea",
        "colab": {
          "base_uri": "https://localhost:8080/",
          "height": 36
        }
      },
      "source": [
        "characters = {}\n",
        "for name in ['рэйчел', 'моника', 'фиби', 'джоуя', 'чендлер', 'росс']:\n",
        "    characters[name] = m.sum()[name]\n",
        "sorted(characters, key=characters.get, reverse=True)[0]"
      ],
      "execution_count": null,
      "outputs": [
        {
          "output_type": "execute_result",
          "data": {
            "application/vnd.google.colaboratory.intrinsic+json": {
              "type": "string"
            },
            "text/plain": [
              "'росс'"
            ]
          },
          "metadata": {
            "tags": []
          },
          "execution_count": 220
        }
      ]
    },
    {
      "cell_type": "code",
      "metadata": {
        "id": "Ky3_ksyLz7gp",
        "outputId": "b2c5c4f3-6c27-467c-e071-61034286ec39",
        "colab": {
          "base_uri": "https://localhost:8080/",
          "height": 35
        }
      },
      "source": [
        "m.sum()['росс']"
      ],
      "execution_count": null,
      "outputs": [
        {
          "output_type": "execute_result",
          "data": {
            "text/plain": [
              "1016"
            ]
          },
          "metadata": {
            "tags": []
          },
          "execution_count": 98
        }
      ]
    },
    {
      "cell_type": "code",
      "metadata": {
        "id": "B3iwu_yYOqTO",
        "outputId": "d511ab89-96a8-49c8-f246-f56a7af623b1",
        "colab": {
          "base_uri": "https://localhost:8080/",
          "height": 124
        }
      },
      "source": [
        "for name in ['рэйчел', 'моника', 'фиби', 'джоуя', 'чендлер', 'росс']:\n",
        "    print(name, m.sum()[name])"
      ],
      "execution_count": null,
      "outputs": [
        {
          "output_type": "stream",
          "text": [
            "рэйчел 237\n",
            "моника 684\n",
            "фиби 575\n",
            "джоуя 682\n",
            "чендлер 48\n",
            "росс 1016\n"
          ],
          "name": "stdout"
        }
      ]
    },
    {
      "cell_type": "code",
      "metadata": {
        "id": "HUEEqngEsuwZ",
        "outputId": "5941bfeb-3ff6-4c1c-a0ab-c6d672cd33b1",
        "colab": {
          "base_uri": "https://localhost:8080/",
          "height": 230
        }
      },
      "source": [
        "m['ты']"
      ],
      "execution_count": null,
      "outputs": [
        {
          "output_type": "execute_result",
          "data": {
            "text/plain": [
              "/content/friends-data/Friends - season 3/Friends - 3x12 - The One With All The Jealousy.ru.txt                     73\n",
              "/content/friends-data/Friends - season 3/Friends - 3x14 - The One With Phoebe's Ex-Partner.ru.txt                  87\n",
              "/content/friends-data/Friends - season 3/Friends - 3x07 - The One With The Race Car Bed.ru.txt                     54\n",
              "/content/friends-data/Friends - season 3/Friends - 3x19 - The One With The Tiny T-Shirt.ru.txt                     89\n",
              "/content/friends-data/Friends - season 3/Friends - 3x15 - The One Where Ross And Rachel Take A Break (1).ru.txt    72\n",
              "                                                                                                                   ..\n",
              "/content/friends-data/Friends - season 6/Friends - 6x13 - The One With Rachel's Sister (1).ru.txt                  85\n",
              "/content/friends-data/Friends - season 6/Friends - 6x11 - The One With The Apothecary Table.ru.txt                 66\n",
              "/content/friends-data/Friends - season 6/Friends - 6x24 - The One With The Proposal (1).ru.txt                     66\n",
              "/content/friends-data/Friends - season 6/Friends - 6x14 - The One Where Chandler Can't Cry (2).ru.txt              84\n",
              "/content/friends-data/Friends - season 6/Friends - 6x01 - The One After Vegas.ru.txt                               67\n",
              "Name: ты, Length: 165, dtype: int64"
            ]
          },
          "metadata": {
            "tags": []
          },
          "execution_count": 199
        }
      ]
    },
    {
      "cell_type": "code",
      "metadata": {
        "id": "NOvJTk9ePqqG",
        "outputId": "86e506d7-7c4b-4ae0-af28-457753370b3d",
        "colab": {
          "base_uri": "https://localhost:8080/",
          "height": 35
        }
      },
      "source": [
        "m.sum().sort_values().tail(1)[0]"
      ],
      "execution_count": null,
      "outputs": [
        {
          "output_type": "execute_result",
          "data": {
            "text/plain": [
              "11191"
            ]
          },
          "metadata": {
            "tags": []
          },
          "execution_count": 215
        }
      ]
    },
    {
      "cell_type": "code",
      "metadata": {
        "id": "SDUM-XEsWuYu",
        "outputId": "a75604c0-16cc-4d7f-f500-fa2ddcbf99ea",
        "colab": {
          "base_uri": "https://localhost:8080/",
          "height": 1000
        }
      },
      "source": [
        "m"
      ],
      "execution_count": null,
      "outputs": [
        {
          "output_type": "execute_result",
          "data": {
            "text/html": [
              "<div>\n",
              "<style scoped>\n",
              "    .dataframe tbody tr th:only-of-type {\n",
              "        vertical-align: middle;\n",
              "    }\n",
              "\n",
              "    .dataframe tbody tr th {\n",
              "        vertical-align: top;\n",
              "    }\n",
              "\n",
              "    .dataframe thead th {\n",
              "        text-align: right;\n",
              "    }\n",
              "</style>\n",
              "<table border=\"1\" class=\"dataframe\">\n",
              "  <thead>\n",
              "    <tr style=\"text-align: right;\">\n",
              "      <th></th>\n",
              "      <th>50</th>\n",
              "      <th>5000</th>\n",
              "      <th>after</th>\n",
              "      <th>again</th>\n",
              "      <th>ahh</th>\n",
              "      <th>all</th>\n",
              "      <th>and</th>\n",
              "      <th>are</th>\n",
              "      <th>au</th>\n",
              "      <th>aнгел</th>\n",
              "      <th>ban</th>\n",
              "      <th>bay</th>\n",
              "      <th>behind</th>\n",
              "      <th>bodington</th>\n",
              "      <th>bonjour</th>\n",
              "      <th>book</th>\n",
              "      <th>by</th>\n",
              "      <th>careless</th>\n",
              "      <th>cat</th>\n",
              "      <th>cd</th>\n",
              "      <th>cheese</th>\n",
              "      <th>china</th>\n",
              "      <th>chuck</th>\n",
              "      <th>city</th>\n",
              "      <th>co</th>\n",
              "      <th>com</th>\n",
              "      <th>cамый</th>\n",
              "      <th>cочельник</th>\n",
              "      <th>cтарый</th>\n",
              "      <th>cтоп</th>\n",
              "      <th>dais</th>\n",
              "      <th>dance</th>\n",
              "      <th>daysailer</th>\n",
              "      <th>delivery</th>\n",
              "      <th>dickin</th>\n",
              "      <th>dicky</th>\n",
              "      <th>didn</th>\n",
              "      <th>dings</th>\n",
              "      <th>discovery</th>\n",
              "      <th>done</th>\n",
              "      <th>...</th>\n",
              "      <th>яйцо</th>\n",
              "      <th>якобы</th>\n",
              "      <th>якорь</th>\n",
              "      <th>ям</th>\n",
              "      <th>ямагучить</th>\n",
              "      <th>ямочка</th>\n",
              "      <th>ямс</th>\n",
              "      <th>ян</th>\n",
              "      <th>январь</th>\n",
              "      <th>янки</th>\n",
              "      <th>янкиз</th>\n",
              "      <th>янковский</th>\n",
              "      <th>японец</th>\n",
              "      <th>япония</th>\n",
              "      <th>японский</th>\n",
              "      <th>яркий</th>\n",
              "      <th>ярко</th>\n",
              "      <th>ярковата</th>\n",
              "      <th>ярлык</th>\n",
              "      <th>ярлычок</th>\n",
              "      <th>ярмарка</th>\n",
              "      <th>ярость</th>\n",
              "      <th>ясмина</th>\n",
              "      <th>ясно</th>\n",
              "      <th>ясность</th>\n",
              "      <th>ясный</th>\n",
              "      <th>яхта</th>\n",
              "      <th>ящерица</th>\n",
              "      <th>ящик</th>\n",
              "      <th>ящичек</th>\n",
              "      <th>ёвить</th>\n",
              "      <th>ёй</th>\n",
              "      <th>ёкнуть</th>\n",
              "      <th>ёлка</th>\n",
              "      <th>ёлочный</th>\n",
              "      <th>ёпэрэсотэ</th>\n",
              "      <th>ёрл</th>\n",
              "      <th>ёрш</th>\n",
              "      <th>ёршик</th>\n",
              "      <th>ёще</th>\n",
              "    </tr>\n",
              "  </thead>\n",
              "  <tbody>\n",
              "    <tr>\n",
              "      <th>/content/friends-data/Friends - season 3/Friends - 3x12 - The One With All The Jealousy.ru.txt</th>\n",
              "      <td>0</td>\n",
              "      <td>0</td>\n",
              "      <td>0</td>\n",
              "      <td>0</td>\n",
              "      <td>0</td>\n",
              "      <td>0</td>\n",
              "      <td>0</td>\n",
              "      <td>0</td>\n",
              "      <td>0</td>\n",
              "      <td>0</td>\n",
              "      <td>0</td>\n",
              "      <td>0</td>\n",
              "      <td>0</td>\n",
              "      <td>0</td>\n",
              "      <td>0</td>\n",
              "      <td>0</td>\n",
              "      <td>0</td>\n",
              "      <td>0</td>\n",
              "      <td>0</td>\n",
              "      <td>0</td>\n",
              "      <td>0</td>\n",
              "      <td>0</td>\n",
              "      <td>0</td>\n",
              "      <td>0</td>\n",
              "      <td>0</td>\n",
              "      <td>0</td>\n",
              "      <td>0</td>\n",
              "      <td>0</td>\n",
              "      <td>0</td>\n",
              "      <td>0</td>\n",
              "      <td>2</td>\n",
              "      <td>0</td>\n",
              "      <td>0</td>\n",
              "      <td>0</td>\n",
              "      <td>0</td>\n",
              "      <td>0</td>\n",
              "      <td>0</td>\n",
              "      <td>0</td>\n",
              "      <td>0</td>\n",
              "      <td>0</td>\n",
              "      <td>...</td>\n",
              "      <td>0</td>\n",
              "      <td>0</td>\n",
              "      <td>0</td>\n",
              "      <td>0</td>\n",
              "      <td>0</td>\n",
              "      <td>0</td>\n",
              "      <td>0</td>\n",
              "      <td>0</td>\n",
              "      <td>0</td>\n",
              "      <td>0</td>\n",
              "      <td>0</td>\n",
              "      <td>0</td>\n",
              "      <td>0</td>\n",
              "      <td>0</td>\n",
              "      <td>0</td>\n",
              "      <td>0</td>\n",
              "      <td>0</td>\n",
              "      <td>0</td>\n",
              "      <td>0</td>\n",
              "      <td>0</td>\n",
              "      <td>0</td>\n",
              "      <td>0</td>\n",
              "      <td>0</td>\n",
              "      <td>1</td>\n",
              "      <td>0</td>\n",
              "      <td>0</td>\n",
              "      <td>0</td>\n",
              "      <td>0</td>\n",
              "      <td>0</td>\n",
              "      <td>0</td>\n",
              "      <td>0</td>\n",
              "      <td>0</td>\n",
              "      <td>0</td>\n",
              "      <td>0</td>\n",
              "      <td>0</td>\n",
              "      <td>0</td>\n",
              "      <td>0</td>\n",
              "      <td>0</td>\n",
              "      <td>0</td>\n",
              "      <td>0</td>\n",
              "    </tr>\n",
              "    <tr>\n",
              "      <th>/content/friends-data/Friends - season 3/Friends - 3x14 - The One With Phoebe's Ex-Partner.ru.txt</th>\n",
              "      <td>0</td>\n",
              "      <td>0</td>\n",
              "      <td>0</td>\n",
              "      <td>0</td>\n",
              "      <td>0</td>\n",
              "      <td>0</td>\n",
              "      <td>0</td>\n",
              "      <td>0</td>\n",
              "      <td>0</td>\n",
              "      <td>0</td>\n",
              "      <td>0</td>\n",
              "      <td>0</td>\n",
              "      <td>0</td>\n",
              "      <td>0</td>\n",
              "      <td>0</td>\n",
              "      <td>1</td>\n",
              "      <td>1</td>\n",
              "      <td>0</td>\n",
              "      <td>0</td>\n",
              "      <td>0</td>\n",
              "      <td>0</td>\n",
              "      <td>0</td>\n",
              "      <td>0</td>\n",
              "      <td>0</td>\n",
              "      <td>0</td>\n",
              "      <td>2</td>\n",
              "      <td>0</td>\n",
              "      <td>0</td>\n",
              "      <td>0</td>\n",
              "      <td>0</td>\n",
              "      <td>0</td>\n",
              "      <td>0</td>\n",
              "      <td>0</td>\n",
              "      <td>0</td>\n",
              "      <td>0</td>\n",
              "      <td>0</td>\n",
              "      <td>0</td>\n",
              "      <td>0</td>\n",
              "      <td>0</td>\n",
              "      <td>0</td>\n",
              "      <td>...</td>\n",
              "      <td>0</td>\n",
              "      <td>0</td>\n",
              "      <td>0</td>\n",
              "      <td>0</td>\n",
              "      <td>0</td>\n",
              "      <td>0</td>\n",
              "      <td>0</td>\n",
              "      <td>0</td>\n",
              "      <td>0</td>\n",
              "      <td>0</td>\n",
              "      <td>0</td>\n",
              "      <td>0</td>\n",
              "      <td>0</td>\n",
              "      <td>0</td>\n",
              "      <td>0</td>\n",
              "      <td>0</td>\n",
              "      <td>0</td>\n",
              "      <td>0</td>\n",
              "      <td>0</td>\n",
              "      <td>0</td>\n",
              "      <td>0</td>\n",
              "      <td>0</td>\n",
              "      <td>0</td>\n",
              "      <td>0</td>\n",
              "      <td>0</td>\n",
              "      <td>0</td>\n",
              "      <td>1</td>\n",
              "      <td>0</td>\n",
              "      <td>0</td>\n",
              "      <td>0</td>\n",
              "      <td>0</td>\n",
              "      <td>0</td>\n",
              "      <td>0</td>\n",
              "      <td>0</td>\n",
              "      <td>0</td>\n",
              "      <td>0</td>\n",
              "      <td>0</td>\n",
              "      <td>0</td>\n",
              "      <td>0</td>\n",
              "      <td>0</td>\n",
              "    </tr>\n",
              "    <tr>\n",
              "      <th>/content/friends-data/Friends - season 3/Friends - 3x07 - The One With The Race Car Bed.ru.txt</th>\n",
              "      <td>0</td>\n",
              "      <td>0</td>\n",
              "      <td>0</td>\n",
              "      <td>0</td>\n",
              "      <td>0</td>\n",
              "      <td>0</td>\n",
              "      <td>0</td>\n",
              "      <td>0</td>\n",
              "      <td>0</td>\n",
              "      <td>0</td>\n",
              "      <td>0</td>\n",
              "      <td>0</td>\n",
              "      <td>0</td>\n",
              "      <td>0</td>\n",
              "      <td>0</td>\n",
              "      <td>0</td>\n",
              "      <td>0</td>\n",
              "      <td>0</td>\n",
              "      <td>0</td>\n",
              "      <td>0</td>\n",
              "      <td>0</td>\n",
              "      <td>0</td>\n",
              "      <td>0</td>\n",
              "      <td>0</td>\n",
              "      <td>0</td>\n",
              "      <td>0</td>\n",
              "      <td>0</td>\n",
              "      <td>0</td>\n",
              "      <td>0</td>\n",
              "      <td>0</td>\n",
              "      <td>1</td>\n",
              "      <td>0</td>\n",
              "      <td>0</td>\n",
              "      <td>0</td>\n",
              "      <td>0</td>\n",
              "      <td>0</td>\n",
              "      <td>0</td>\n",
              "      <td>0</td>\n",
              "      <td>0</td>\n",
              "      <td>0</td>\n",
              "      <td>...</td>\n",
              "      <td>0</td>\n",
              "      <td>0</td>\n",
              "      <td>0</td>\n",
              "      <td>0</td>\n",
              "      <td>0</td>\n",
              "      <td>0</td>\n",
              "      <td>0</td>\n",
              "      <td>0</td>\n",
              "      <td>0</td>\n",
              "      <td>0</td>\n",
              "      <td>0</td>\n",
              "      <td>0</td>\n",
              "      <td>0</td>\n",
              "      <td>0</td>\n",
              "      <td>0</td>\n",
              "      <td>0</td>\n",
              "      <td>0</td>\n",
              "      <td>0</td>\n",
              "      <td>0</td>\n",
              "      <td>0</td>\n",
              "      <td>0</td>\n",
              "      <td>0</td>\n",
              "      <td>0</td>\n",
              "      <td>2</td>\n",
              "      <td>0</td>\n",
              "      <td>0</td>\n",
              "      <td>3</td>\n",
              "      <td>0</td>\n",
              "      <td>0</td>\n",
              "      <td>0</td>\n",
              "      <td>0</td>\n",
              "      <td>0</td>\n",
              "      <td>0</td>\n",
              "      <td>0</td>\n",
              "      <td>0</td>\n",
              "      <td>0</td>\n",
              "      <td>0</td>\n",
              "      <td>0</td>\n",
              "      <td>0</td>\n",
              "      <td>0</td>\n",
              "    </tr>\n",
              "    <tr>\n",
              "      <th>/content/friends-data/Friends - season 3/Friends - 3x19 - The One With The Tiny T-Shirt.ru.txt</th>\n",
              "      <td>0</td>\n",
              "      <td>0</td>\n",
              "      <td>0</td>\n",
              "      <td>0</td>\n",
              "      <td>0</td>\n",
              "      <td>0</td>\n",
              "      <td>0</td>\n",
              "      <td>0</td>\n",
              "      <td>0</td>\n",
              "      <td>0</td>\n",
              "      <td>0</td>\n",
              "      <td>0</td>\n",
              "      <td>0</td>\n",
              "      <td>0</td>\n",
              "      <td>0</td>\n",
              "      <td>0</td>\n",
              "      <td>0</td>\n",
              "      <td>0</td>\n",
              "      <td>0</td>\n",
              "      <td>0</td>\n",
              "      <td>0</td>\n",
              "      <td>0</td>\n",
              "      <td>0</td>\n",
              "      <td>0</td>\n",
              "      <td>0</td>\n",
              "      <td>0</td>\n",
              "      <td>0</td>\n",
              "      <td>0</td>\n",
              "      <td>0</td>\n",
              "      <td>0</td>\n",
              "      <td>1</td>\n",
              "      <td>0</td>\n",
              "      <td>0</td>\n",
              "      <td>0</td>\n",
              "      <td>0</td>\n",
              "      <td>0</td>\n",
              "      <td>0</td>\n",
              "      <td>0</td>\n",
              "      <td>0</td>\n",
              "      <td>0</td>\n",
              "      <td>...</td>\n",
              "      <td>0</td>\n",
              "      <td>0</td>\n",
              "      <td>0</td>\n",
              "      <td>0</td>\n",
              "      <td>0</td>\n",
              "      <td>0</td>\n",
              "      <td>0</td>\n",
              "      <td>0</td>\n",
              "      <td>0</td>\n",
              "      <td>0</td>\n",
              "      <td>0</td>\n",
              "      <td>0</td>\n",
              "      <td>0</td>\n",
              "      <td>0</td>\n",
              "      <td>0</td>\n",
              "      <td>0</td>\n",
              "      <td>0</td>\n",
              "      <td>0</td>\n",
              "      <td>0</td>\n",
              "      <td>0</td>\n",
              "      <td>0</td>\n",
              "      <td>0</td>\n",
              "      <td>0</td>\n",
              "      <td>1</td>\n",
              "      <td>0</td>\n",
              "      <td>0</td>\n",
              "      <td>0</td>\n",
              "      <td>0</td>\n",
              "      <td>2</td>\n",
              "      <td>0</td>\n",
              "      <td>0</td>\n",
              "      <td>0</td>\n",
              "      <td>0</td>\n",
              "      <td>0</td>\n",
              "      <td>0</td>\n",
              "      <td>0</td>\n",
              "      <td>0</td>\n",
              "      <td>0</td>\n",
              "      <td>0</td>\n",
              "      <td>0</td>\n",
              "    </tr>\n",
              "    <tr>\n",
              "      <th>/content/friends-data/Friends - season 3/Friends - 3x15 - The One Where Ross And Rachel Take A Break (1).ru.txt</th>\n",
              "      <td>1</td>\n",
              "      <td>1</td>\n",
              "      <td>0</td>\n",
              "      <td>0</td>\n",
              "      <td>0</td>\n",
              "      <td>0</td>\n",
              "      <td>0</td>\n",
              "      <td>0</td>\n",
              "      <td>0</td>\n",
              "      <td>0</td>\n",
              "      <td>0</td>\n",
              "      <td>0</td>\n",
              "      <td>0</td>\n",
              "      <td>0</td>\n",
              "      <td>0</td>\n",
              "      <td>0</td>\n",
              "      <td>0</td>\n",
              "      <td>0</td>\n",
              "      <td>0</td>\n",
              "      <td>0</td>\n",
              "      <td>0</td>\n",
              "      <td>0</td>\n",
              "      <td>0</td>\n",
              "      <td>0</td>\n",
              "      <td>0</td>\n",
              "      <td>0</td>\n",
              "      <td>0</td>\n",
              "      <td>0</td>\n",
              "      <td>0</td>\n",
              "      <td>0</td>\n",
              "      <td>1</td>\n",
              "      <td>0</td>\n",
              "      <td>0</td>\n",
              "      <td>0</td>\n",
              "      <td>0</td>\n",
              "      <td>0</td>\n",
              "      <td>0</td>\n",
              "      <td>0</td>\n",
              "      <td>0</td>\n",
              "      <td>0</td>\n",
              "      <td>...</td>\n",
              "      <td>1</td>\n",
              "      <td>0</td>\n",
              "      <td>0</td>\n",
              "      <td>0</td>\n",
              "      <td>0</td>\n",
              "      <td>0</td>\n",
              "      <td>0</td>\n",
              "      <td>0</td>\n",
              "      <td>0</td>\n",
              "      <td>0</td>\n",
              "      <td>0</td>\n",
              "      <td>0</td>\n",
              "      <td>0</td>\n",
              "      <td>0</td>\n",
              "      <td>0</td>\n",
              "      <td>0</td>\n",
              "      <td>0</td>\n",
              "      <td>0</td>\n",
              "      <td>0</td>\n",
              "      <td>0</td>\n",
              "      <td>0</td>\n",
              "      <td>0</td>\n",
              "      <td>0</td>\n",
              "      <td>1</td>\n",
              "      <td>0</td>\n",
              "      <td>0</td>\n",
              "      <td>0</td>\n",
              "      <td>0</td>\n",
              "      <td>0</td>\n",
              "      <td>0</td>\n",
              "      <td>0</td>\n",
              "      <td>0</td>\n",
              "      <td>0</td>\n",
              "      <td>0</td>\n",
              "      <td>0</td>\n",
              "      <td>0</td>\n",
              "      <td>0</td>\n",
              "      <td>0</td>\n",
              "      <td>0</td>\n",
              "      <td>0</td>\n",
              "    </tr>\n",
              "    <tr>\n",
              "      <th>...</th>\n",
              "      <td>...</td>\n",
              "      <td>...</td>\n",
              "      <td>...</td>\n",
              "      <td>...</td>\n",
              "      <td>...</td>\n",
              "      <td>...</td>\n",
              "      <td>...</td>\n",
              "      <td>...</td>\n",
              "      <td>...</td>\n",
              "      <td>...</td>\n",
              "      <td>...</td>\n",
              "      <td>...</td>\n",
              "      <td>...</td>\n",
              "      <td>...</td>\n",
              "      <td>...</td>\n",
              "      <td>...</td>\n",
              "      <td>...</td>\n",
              "      <td>...</td>\n",
              "      <td>...</td>\n",
              "      <td>...</td>\n",
              "      <td>...</td>\n",
              "      <td>...</td>\n",
              "      <td>...</td>\n",
              "      <td>...</td>\n",
              "      <td>...</td>\n",
              "      <td>...</td>\n",
              "      <td>...</td>\n",
              "      <td>...</td>\n",
              "      <td>...</td>\n",
              "      <td>...</td>\n",
              "      <td>...</td>\n",
              "      <td>...</td>\n",
              "      <td>...</td>\n",
              "      <td>...</td>\n",
              "      <td>...</td>\n",
              "      <td>...</td>\n",
              "      <td>...</td>\n",
              "      <td>...</td>\n",
              "      <td>...</td>\n",
              "      <td>...</td>\n",
              "      <td>...</td>\n",
              "      <td>...</td>\n",
              "      <td>...</td>\n",
              "      <td>...</td>\n",
              "      <td>...</td>\n",
              "      <td>...</td>\n",
              "      <td>...</td>\n",
              "      <td>...</td>\n",
              "      <td>...</td>\n",
              "      <td>...</td>\n",
              "      <td>...</td>\n",
              "      <td>...</td>\n",
              "      <td>...</td>\n",
              "      <td>...</td>\n",
              "      <td>...</td>\n",
              "      <td>...</td>\n",
              "      <td>...</td>\n",
              "      <td>...</td>\n",
              "      <td>...</td>\n",
              "      <td>...</td>\n",
              "      <td>...</td>\n",
              "      <td>...</td>\n",
              "      <td>...</td>\n",
              "      <td>...</td>\n",
              "      <td>...</td>\n",
              "      <td>...</td>\n",
              "      <td>...</td>\n",
              "      <td>...</td>\n",
              "      <td>...</td>\n",
              "      <td>...</td>\n",
              "      <td>...</td>\n",
              "      <td>...</td>\n",
              "      <td>...</td>\n",
              "      <td>...</td>\n",
              "      <td>...</td>\n",
              "      <td>...</td>\n",
              "      <td>...</td>\n",
              "      <td>...</td>\n",
              "      <td>...</td>\n",
              "      <td>...</td>\n",
              "      <td>...</td>\n",
              "    </tr>\n",
              "    <tr>\n",
              "      <th>/content/friends-data/Friends - season 6/Friends - 6x13 - The One With Rachel's Sister (1).ru.txt</th>\n",
              "      <td>0</td>\n",
              "      <td>0</td>\n",
              "      <td>0</td>\n",
              "      <td>0</td>\n",
              "      <td>0</td>\n",
              "      <td>0</td>\n",
              "      <td>0</td>\n",
              "      <td>0</td>\n",
              "      <td>0</td>\n",
              "      <td>0</td>\n",
              "      <td>0</td>\n",
              "      <td>0</td>\n",
              "      <td>0</td>\n",
              "      <td>0</td>\n",
              "      <td>0</td>\n",
              "      <td>0</td>\n",
              "      <td>0</td>\n",
              "      <td>0</td>\n",
              "      <td>0</td>\n",
              "      <td>0</td>\n",
              "      <td>0</td>\n",
              "      <td>0</td>\n",
              "      <td>0</td>\n",
              "      <td>0</td>\n",
              "      <td>0</td>\n",
              "      <td>0</td>\n",
              "      <td>0</td>\n",
              "      <td>0</td>\n",
              "      <td>0</td>\n",
              "      <td>0</td>\n",
              "      <td>0</td>\n",
              "      <td>0</td>\n",
              "      <td>0</td>\n",
              "      <td>0</td>\n",
              "      <td>0</td>\n",
              "      <td>0</td>\n",
              "      <td>0</td>\n",
              "      <td>0</td>\n",
              "      <td>0</td>\n",
              "      <td>0</td>\n",
              "      <td>...</td>\n",
              "      <td>0</td>\n",
              "      <td>0</td>\n",
              "      <td>0</td>\n",
              "      <td>0</td>\n",
              "      <td>0</td>\n",
              "      <td>0</td>\n",
              "      <td>0</td>\n",
              "      <td>0</td>\n",
              "      <td>0</td>\n",
              "      <td>0</td>\n",
              "      <td>0</td>\n",
              "      <td>0</td>\n",
              "      <td>0</td>\n",
              "      <td>0</td>\n",
              "      <td>0</td>\n",
              "      <td>0</td>\n",
              "      <td>0</td>\n",
              "      <td>0</td>\n",
              "      <td>0</td>\n",
              "      <td>0</td>\n",
              "      <td>0</td>\n",
              "      <td>0</td>\n",
              "      <td>0</td>\n",
              "      <td>0</td>\n",
              "      <td>0</td>\n",
              "      <td>0</td>\n",
              "      <td>2</td>\n",
              "      <td>0</td>\n",
              "      <td>0</td>\n",
              "      <td>0</td>\n",
              "      <td>0</td>\n",
              "      <td>0</td>\n",
              "      <td>0</td>\n",
              "      <td>0</td>\n",
              "      <td>0</td>\n",
              "      <td>0</td>\n",
              "      <td>0</td>\n",
              "      <td>0</td>\n",
              "      <td>0</td>\n",
              "      <td>0</td>\n",
              "    </tr>\n",
              "    <tr>\n",
              "      <th>/content/friends-data/Friends - season 6/Friends - 6x11 - The One With The Apothecary Table.ru.txt</th>\n",
              "      <td>0</td>\n",
              "      <td>0</td>\n",
              "      <td>0</td>\n",
              "      <td>0</td>\n",
              "      <td>0</td>\n",
              "      <td>0</td>\n",
              "      <td>0</td>\n",
              "      <td>0</td>\n",
              "      <td>0</td>\n",
              "      <td>0</td>\n",
              "      <td>0</td>\n",
              "      <td>0</td>\n",
              "      <td>0</td>\n",
              "      <td>0</td>\n",
              "      <td>0</td>\n",
              "      <td>0</td>\n",
              "      <td>0</td>\n",
              "      <td>0</td>\n",
              "      <td>0</td>\n",
              "      <td>1</td>\n",
              "      <td>0</td>\n",
              "      <td>0</td>\n",
              "      <td>0</td>\n",
              "      <td>0</td>\n",
              "      <td>0</td>\n",
              "      <td>0</td>\n",
              "      <td>0</td>\n",
              "      <td>0</td>\n",
              "      <td>0</td>\n",
              "      <td>0</td>\n",
              "      <td>0</td>\n",
              "      <td>0</td>\n",
              "      <td>0</td>\n",
              "      <td>0</td>\n",
              "      <td>0</td>\n",
              "      <td>0</td>\n",
              "      <td>0</td>\n",
              "      <td>0</td>\n",
              "      <td>0</td>\n",
              "      <td>0</td>\n",
              "      <td>...</td>\n",
              "      <td>0</td>\n",
              "      <td>0</td>\n",
              "      <td>0</td>\n",
              "      <td>0</td>\n",
              "      <td>0</td>\n",
              "      <td>0</td>\n",
              "      <td>0</td>\n",
              "      <td>0</td>\n",
              "      <td>0</td>\n",
              "      <td>0</td>\n",
              "      <td>0</td>\n",
              "      <td>0</td>\n",
              "      <td>0</td>\n",
              "      <td>0</td>\n",
              "      <td>0</td>\n",
              "      <td>0</td>\n",
              "      <td>0</td>\n",
              "      <td>0</td>\n",
              "      <td>0</td>\n",
              "      <td>0</td>\n",
              "      <td>0</td>\n",
              "      <td>0</td>\n",
              "      <td>0</td>\n",
              "      <td>2</td>\n",
              "      <td>0</td>\n",
              "      <td>0</td>\n",
              "      <td>0</td>\n",
              "      <td>0</td>\n",
              "      <td>1</td>\n",
              "      <td>0</td>\n",
              "      <td>0</td>\n",
              "      <td>0</td>\n",
              "      <td>0</td>\n",
              "      <td>0</td>\n",
              "      <td>0</td>\n",
              "      <td>0</td>\n",
              "      <td>0</td>\n",
              "      <td>0</td>\n",
              "      <td>0</td>\n",
              "      <td>0</td>\n",
              "    </tr>\n",
              "    <tr>\n",
              "      <th>/content/friends-data/Friends - season 6/Friends - 6x24 - The One With The Proposal (1).ru.txt</th>\n",
              "      <td>0</td>\n",
              "      <td>0</td>\n",
              "      <td>0</td>\n",
              "      <td>0</td>\n",
              "      <td>0</td>\n",
              "      <td>0</td>\n",
              "      <td>0</td>\n",
              "      <td>0</td>\n",
              "      <td>0</td>\n",
              "      <td>0</td>\n",
              "      <td>0</td>\n",
              "      <td>0</td>\n",
              "      <td>0</td>\n",
              "      <td>0</td>\n",
              "      <td>0</td>\n",
              "      <td>0</td>\n",
              "      <td>0</td>\n",
              "      <td>0</td>\n",
              "      <td>0</td>\n",
              "      <td>0</td>\n",
              "      <td>0</td>\n",
              "      <td>0</td>\n",
              "      <td>0</td>\n",
              "      <td>0</td>\n",
              "      <td>0</td>\n",
              "      <td>0</td>\n",
              "      <td>0</td>\n",
              "      <td>0</td>\n",
              "      <td>0</td>\n",
              "      <td>0</td>\n",
              "      <td>0</td>\n",
              "      <td>0</td>\n",
              "      <td>1</td>\n",
              "      <td>0</td>\n",
              "      <td>0</td>\n",
              "      <td>0</td>\n",
              "      <td>0</td>\n",
              "      <td>0</td>\n",
              "      <td>0</td>\n",
              "      <td>0</td>\n",
              "      <td>...</td>\n",
              "      <td>0</td>\n",
              "      <td>0</td>\n",
              "      <td>0</td>\n",
              "      <td>0</td>\n",
              "      <td>0</td>\n",
              "      <td>0</td>\n",
              "      <td>0</td>\n",
              "      <td>0</td>\n",
              "      <td>0</td>\n",
              "      <td>0</td>\n",
              "      <td>0</td>\n",
              "      <td>0</td>\n",
              "      <td>0</td>\n",
              "      <td>0</td>\n",
              "      <td>0</td>\n",
              "      <td>0</td>\n",
              "      <td>0</td>\n",
              "      <td>0</td>\n",
              "      <td>0</td>\n",
              "      <td>0</td>\n",
              "      <td>0</td>\n",
              "      <td>0</td>\n",
              "      <td>0</td>\n",
              "      <td>0</td>\n",
              "      <td>0</td>\n",
              "      <td>0</td>\n",
              "      <td>10</td>\n",
              "      <td>0</td>\n",
              "      <td>0</td>\n",
              "      <td>0</td>\n",
              "      <td>0</td>\n",
              "      <td>0</td>\n",
              "      <td>0</td>\n",
              "      <td>0</td>\n",
              "      <td>0</td>\n",
              "      <td>0</td>\n",
              "      <td>0</td>\n",
              "      <td>0</td>\n",
              "      <td>0</td>\n",
              "      <td>0</td>\n",
              "    </tr>\n",
              "    <tr>\n",
              "      <th>/content/friends-data/Friends - season 6/Friends - 6x14 - The One Where Chandler Can't Cry (2).ru.txt</th>\n",
              "      <td>0</td>\n",
              "      <td>0</td>\n",
              "      <td>0</td>\n",
              "      <td>0</td>\n",
              "      <td>0</td>\n",
              "      <td>0</td>\n",
              "      <td>0</td>\n",
              "      <td>0</td>\n",
              "      <td>0</td>\n",
              "      <td>0</td>\n",
              "      <td>0</td>\n",
              "      <td>0</td>\n",
              "      <td>0</td>\n",
              "      <td>0</td>\n",
              "      <td>0</td>\n",
              "      <td>0</td>\n",
              "      <td>0</td>\n",
              "      <td>0</td>\n",
              "      <td>0</td>\n",
              "      <td>0</td>\n",
              "      <td>0</td>\n",
              "      <td>0</td>\n",
              "      <td>0</td>\n",
              "      <td>0</td>\n",
              "      <td>0</td>\n",
              "      <td>0</td>\n",
              "      <td>0</td>\n",
              "      <td>0</td>\n",
              "      <td>0</td>\n",
              "      <td>0</td>\n",
              "      <td>0</td>\n",
              "      <td>0</td>\n",
              "      <td>0</td>\n",
              "      <td>0</td>\n",
              "      <td>0</td>\n",
              "      <td>0</td>\n",
              "      <td>0</td>\n",
              "      <td>0</td>\n",
              "      <td>0</td>\n",
              "      <td>0</td>\n",
              "      <td>...</td>\n",
              "      <td>0</td>\n",
              "      <td>0</td>\n",
              "      <td>0</td>\n",
              "      <td>0</td>\n",
              "      <td>0</td>\n",
              "      <td>0</td>\n",
              "      <td>0</td>\n",
              "      <td>0</td>\n",
              "      <td>0</td>\n",
              "      <td>0</td>\n",
              "      <td>0</td>\n",
              "      <td>0</td>\n",
              "      <td>0</td>\n",
              "      <td>0</td>\n",
              "      <td>0</td>\n",
              "      <td>0</td>\n",
              "      <td>0</td>\n",
              "      <td>0</td>\n",
              "      <td>0</td>\n",
              "      <td>0</td>\n",
              "      <td>0</td>\n",
              "      <td>0</td>\n",
              "      <td>0</td>\n",
              "      <td>1</td>\n",
              "      <td>0</td>\n",
              "      <td>0</td>\n",
              "      <td>0</td>\n",
              "      <td>0</td>\n",
              "      <td>1</td>\n",
              "      <td>0</td>\n",
              "      <td>0</td>\n",
              "      <td>0</td>\n",
              "      <td>0</td>\n",
              "      <td>0</td>\n",
              "      <td>0</td>\n",
              "      <td>0</td>\n",
              "      <td>0</td>\n",
              "      <td>0</td>\n",
              "      <td>0</td>\n",
              "      <td>0</td>\n",
              "    </tr>\n",
              "    <tr>\n",
              "      <th>/content/friends-data/Friends - season 6/Friends - 6x01 - The One After Vegas.ru.txt</th>\n",
              "      <td>0</td>\n",
              "      <td>0</td>\n",
              "      <td>0</td>\n",
              "      <td>0</td>\n",
              "      <td>0</td>\n",
              "      <td>1</td>\n",
              "      <td>0</td>\n",
              "      <td>0</td>\n",
              "      <td>0</td>\n",
              "      <td>0</td>\n",
              "      <td>0</td>\n",
              "      <td>0</td>\n",
              "      <td>0</td>\n",
              "      <td>0</td>\n",
              "      <td>0</td>\n",
              "      <td>0</td>\n",
              "      <td>0</td>\n",
              "      <td>0</td>\n",
              "      <td>0</td>\n",
              "      <td>0</td>\n",
              "      <td>0</td>\n",
              "      <td>0</td>\n",
              "      <td>0</td>\n",
              "      <td>0</td>\n",
              "      <td>0</td>\n",
              "      <td>0</td>\n",
              "      <td>0</td>\n",
              "      <td>0</td>\n",
              "      <td>0</td>\n",
              "      <td>0</td>\n",
              "      <td>0</td>\n",
              "      <td>0</td>\n",
              "      <td>0</td>\n",
              "      <td>0</td>\n",
              "      <td>0</td>\n",
              "      <td>0</td>\n",
              "      <td>0</td>\n",
              "      <td>0</td>\n",
              "      <td>0</td>\n",
              "      <td>0</td>\n",
              "      <td>...</td>\n",
              "      <td>0</td>\n",
              "      <td>0</td>\n",
              "      <td>0</td>\n",
              "      <td>0</td>\n",
              "      <td>0</td>\n",
              "      <td>0</td>\n",
              "      <td>0</td>\n",
              "      <td>0</td>\n",
              "      <td>0</td>\n",
              "      <td>0</td>\n",
              "      <td>0</td>\n",
              "      <td>0</td>\n",
              "      <td>0</td>\n",
              "      <td>0</td>\n",
              "      <td>0</td>\n",
              "      <td>0</td>\n",
              "      <td>0</td>\n",
              "      <td>0</td>\n",
              "      <td>0</td>\n",
              "      <td>0</td>\n",
              "      <td>0</td>\n",
              "      <td>0</td>\n",
              "      <td>0</td>\n",
              "      <td>0</td>\n",
              "      <td>0</td>\n",
              "      <td>0</td>\n",
              "      <td>0</td>\n",
              "      <td>0</td>\n",
              "      <td>2</td>\n",
              "      <td>0</td>\n",
              "      <td>0</td>\n",
              "      <td>0</td>\n",
              "      <td>0</td>\n",
              "      <td>0</td>\n",
              "      <td>0</td>\n",
              "      <td>0</td>\n",
              "      <td>0</td>\n",
              "      <td>0</td>\n",
              "      <td>0</td>\n",
              "      <td>0</td>\n",
              "    </tr>\n",
              "  </tbody>\n",
              "</table>\n",
              "<p>165 rows × 15051 columns</p>\n",
              "</div>"
            ],
            "text/plain": [
              "                                                    50  5000  ...  ёршик  ёще\n",
              "/content/friends-data/Friends - season 3/Friend...   0     0  ...      0    0\n",
              "/content/friends-data/Friends - season 3/Friend...   0     0  ...      0    0\n",
              "/content/friends-data/Friends - season 3/Friend...   0     0  ...      0    0\n",
              "/content/friends-data/Friends - season 3/Friend...   0     0  ...      0    0\n",
              "/content/friends-data/Friends - season 3/Friend...   1     1  ...      0    0\n",
              "...                                                 ..   ...  ...    ...  ...\n",
              "/content/friends-data/Friends - season 6/Friend...   0     0  ...      0    0\n",
              "/content/friends-data/Friends - season 6/Friend...   0     0  ...      0    0\n",
              "/content/friends-data/Friends - season 6/Friend...   0     0  ...      0    0\n",
              "/content/friends-data/Friends - season 6/Friend...   0     0  ...      0    0\n",
              "/content/friends-data/Friends - season 6/Friend...   0     0  ...      0    0\n",
              "\n",
              "[165 rows x 15051 columns]"
            ]
          },
          "metadata": {
            "tags": []
          },
          "execution_count": 150
        }
      ]
    },
    {
      "cell_type": "code",
      "metadata": {
        "id": "-6x7UeMKWxl2",
        "outputId": "df27527d-f671-4f9e-c1c5-db94d0acb2d7",
        "colab": {
          "base_uri": "https://localhost:8080/",
          "height": 532
        }
      },
      "source": [
        "list(m.columns[(np.count_nonzero(m, axis=0) == 165).nonzero()])"
      ],
      "execution_count": null,
      "outputs": [
        {
          "output_type": "execute_result",
          "data": {
            "text/plain": [
              "['быть',\n",
              " 'весь',\n",
              " 'да',\n",
              " 'думать',\n",
              " 'если',\n",
              " 'ещё',\n",
              " 'знать',\n",
              " 'как',\n",
              " 'мой',\n",
              " 'мочь',\n",
              " 'мы',\n",
              " 'на',\n",
              " 'не',\n",
              " 'нет',\n",
              " 'но',\n",
              " 'ну',\n",
              " 'он',\n",
              " 'она',\n",
              " 'просто',\n",
              " 'сказать',\n",
              " 'так',\n",
              " 'такой',\n",
              " 'то',\n",
              " 'тот',\n",
              " 'ты',\n",
              " 'хотеть',\n",
              " 'что',\n",
              " 'это',\n",
              " 'этот']"
            ]
          },
          "metadata": {
            "tags": []
          },
          "execution_count": 178
        }
      ]
    },
    {
      "cell_type": "code",
      "metadata": {
        "id": "zSUBnHW1WlQL"
      },
      "source": [
        ""
      ],
      "execution_count": null,
      "outputs": []
    }
  ]
}