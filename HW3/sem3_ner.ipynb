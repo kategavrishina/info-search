{
  "nbformat": 4,
  "nbformat_minor": 0,
  "metadata": {
    "kernelspec": {
      "display_name": "Python 3",
      "language": "python",
      "name": "python3"
    },
    "language_info": {
      "codemirror_mode": {
        "name": "ipython",
        "version": 3
      },
      "file_extension": ".py",
      "mimetype": "text/x-python",
      "name": "python",
      "nbconvert_exporter": "python",
      "pygments_lexer": "ipython3",
      "version": "3.7.6"
    },
    "colab": {
      "name": "sem3_ner.ipynb",
      "provenance": [],
      "include_colab_link": true
    },
    "widgets": {
      "application/vnd.jupyter.widget-state+json": {
        "cc44d397fc774ba998a28983d43d9010": {
          "model_module": "@jupyter-widgets/controls",
          "model_name": "HBoxModel",
          "state": {
            "_view_name": "HBoxView",
            "_dom_classes": [],
            "_model_name": "HBoxModel",
            "_view_module": "@jupyter-widgets/controls",
            "_model_module_version": "1.5.0",
            "_view_count": null,
            "_view_module_version": "1.5.0",
            "box_style": "",
            "layout": "IPY_MODEL_114aa5ddaa8e44ceb97dfa37ae7abf22",
            "_model_module": "@jupyter-widgets/controls",
            "children": [
              "IPY_MODEL_f7dc2a4b2725486fabca3571facd672a",
              "IPY_MODEL_a3f039357c3840b8a68f916e553c1a1e"
            ]
          }
        },
        "114aa5ddaa8e44ceb97dfa37ae7abf22": {
          "model_module": "@jupyter-widgets/base",
          "model_name": "LayoutModel",
          "state": {
            "_view_name": "LayoutView",
            "grid_template_rows": null,
            "right": null,
            "justify_content": null,
            "_view_module": "@jupyter-widgets/base",
            "overflow": null,
            "_model_module_version": "1.2.0",
            "_view_count": null,
            "flex_flow": null,
            "width": null,
            "min_width": null,
            "border": null,
            "align_items": null,
            "bottom": null,
            "_model_module": "@jupyter-widgets/base",
            "top": null,
            "grid_column": null,
            "overflow_y": null,
            "overflow_x": null,
            "grid_auto_flow": null,
            "grid_area": null,
            "grid_template_columns": null,
            "flex": null,
            "_model_name": "LayoutModel",
            "justify_items": null,
            "grid_row": null,
            "max_height": null,
            "align_content": null,
            "visibility": null,
            "align_self": null,
            "height": null,
            "min_height": null,
            "padding": null,
            "grid_auto_rows": null,
            "grid_gap": null,
            "max_width": null,
            "order": null,
            "_view_module_version": "1.2.0",
            "grid_template_areas": null,
            "object_position": null,
            "object_fit": null,
            "grid_auto_columns": null,
            "margin": null,
            "display": null,
            "left": null
          }
        },
        "f7dc2a4b2725486fabca3571facd672a": {
          "model_module": "@jupyter-widgets/controls",
          "model_name": "FloatProgressModel",
          "state": {
            "_view_name": "ProgressView",
            "style": "IPY_MODEL_bca99fd2b47b453cb9f519a3f8d3c763",
            "_dom_classes": [],
            "description": "100%",
            "_model_name": "FloatProgressModel",
            "bar_style": "success",
            "max": 3080,
            "_view_module": "@jupyter-widgets/controls",
            "_model_module_version": "1.5.0",
            "value": 3080,
            "_view_count": null,
            "_view_module_version": "1.5.0",
            "orientation": "horizontal",
            "min": 0,
            "description_tooltip": null,
            "_model_module": "@jupyter-widgets/controls",
            "layout": "IPY_MODEL_d2f65e5de3274d25987e8d9f67a5ad64"
          }
        },
        "a3f039357c3840b8a68f916e553c1a1e": {
          "model_module": "@jupyter-widgets/controls",
          "model_name": "HTMLModel",
          "state": {
            "_view_name": "HTMLView",
            "style": "IPY_MODEL_9f0ef351e8774d7190c9398134ad0377",
            "_dom_classes": [],
            "description": "",
            "_model_name": "HTMLModel",
            "placeholder": "​",
            "_view_module": "@jupyter-widgets/controls",
            "_model_module_version": "1.5.0",
            "value": " 3080/3080 [46:01&lt;00:00,  1.12it/s]",
            "_view_count": null,
            "_view_module_version": "1.5.0",
            "description_tooltip": null,
            "_model_module": "@jupyter-widgets/controls",
            "layout": "IPY_MODEL_7f8185688a18435dbc7c2a87c5c84621"
          }
        },
        "bca99fd2b47b453cb9f519a3f8d3c763": {
          "model_module": "@jupyter-widgets/controls",
          "model_name": "ProgressStyleModel",
          "state": {
            "_view_name": "StyleView",
            "_model_name": "ProgressStyleModel",
            "description_width": "initial",
            "_view_module": "@jupyter-widgets/base",
            "_model_module_version": "1.5.0",
            "_view_count": null,
            "_view_module_version": "1.2.0",
            "bar_color": null,
            "_model_module": "@jupyter-widgets/controls"
          }
        },
        "d2f65e5de3274d25987e8d9f67a5ad64": {
          "model_module": "@jupyter-widgets/base",
          "model_name": "LayoutModel",
          "state": {
            "_view_name": "LayoutView",
            "grid_template_rows": null,
            "right": null,
            "justify_content": null,
            "_view_module": "@jupyter-widgets/base",
            "overflow": null,
            "_model_module_version": "1.2.0",
            "_view_count": null,
            "flex_flow": null,
            "width": null,
            "min_width": null,
            "border": null,
            "align_items": null,
            "bottom": null,
            "_model_module": "@jupyter-widgets/base",
            "top": null,
            "grid_column": null,
            "overflow_y": null,
            "overflow_x": null,
            "grid_auto_flow": null,
            "grid_area": null,
            "grid_template_columns": null,
            "flex": null,
            "_model_name": "LayoutModel",
            "justify_items": null,
            "grid_row": null,
            "max_height": null,
            "align_content": null,
            "visibility": null,
            "align_self": null,
            "height": null,
            "min_height": null,
            "padding": null,
            "grid_auto_rows": null,
            "grid_gap": null,
            "max_width": null,
            "order": null,
            "_view_module_version": "1.2.0",
            "grid_template_areas": null,
            "object_position": null,
            "object_fit": null,
            "grid_auto_columns": null,
            "margin": null,
            "display": null,
            "left": null
          }
        },
        "9f0ef351e8774d7190c9398134ad0377": {
          "model_module": "@jupyter-widgets/controls",
          "model_name": "DescriptionStyleModel",
          "state": {
            "_view_name": "StyleView",
            "_model_name": "DescriptionStyleModel",
            "description_width": "",
            "_view_module": "@jupyter-widgets/base",
            "_model_module_version": "1.5.0",
            "_view_count": null,
            "_view_module_version": "1.2.0",
            "_model_module": "@jupyter-widgets/controls"
          }
        },
        "7f8185688a18435dbc7c2a87c5c84621": {
          "model_module": "@jupyter-widgets/base",
          "model_name": "LayoutModel",
          "state": {
            "_view_name": "LayoutView",
            "grid_template_rows": null,
            "right": null,
            "justify_content": null,
            "_view_module": "@jupyter-widgets/base",
            "overflow": null,
            "_model_module_version": "1.2.0",
            "_view_count": null,
            "flex_flow": null,
            "width": null,
            "min_width": null,
            "border": null,
            "align_items": null,
            "bottom": null,
            "_model_module": "@jupyter-widgets/base",
            "top": null,
            "grid_column": null,
            "overflow_y": null,
            "overflow_x": null,
            "grid_auto_flow": null,
            "grid_area": null,
            "grid_template_columns": null,
            "flex": null,
            "_model_name": "LayoutModel",
            "justify_items": null,
            "grid_row": null,
            "max_height": null,
            "align_content": null,
            "visibility": null,
            "align_self": null,
            "height": null,
            "min_height": null,
            "padding": null,
            "grid_auto_rows": null,
            "grid_gap": null,
            "max_width": null,
            "order": null,
            "_view_module_version": "1.2.0",
            "grid_template_areas": null,
            "object_position": null,
            "object_fit": null,
            "grid_auto_columns": null,
            "margin": null,
            "display": null,
            "left": null
          }
        },
        "56558c2bb91f48a085b40be2a5a6c47c": {
          "model_module": "@jupyter-widgets/controls",
          "model_name": "HBoxModel",
          "state": {
            "_view_name": "HBoxView",
            "_dom_classes": [],
            "_model_name": "HBoxModel",
            "_view_module": "@jupyter-widgets/controls",
            "_model_module_version": "1.5.0",
            "_view_count": null,
            "_view_module_version": "1.5.0",
            "box_style": "",
            "layout": "IPY_MODEL_9021f11400204928addb7599bbfa7682",
            "_model_module": "@jupyter-widgets/controls",
            "children": [
              "IPY_MODEL_be9d093dd1c541af966aedbfd307ac29",
              "IPY_MODEL_2bbe5518f2aa4f28b7947e6f1419afa3"
            ]
          }
        },
        "9021f11400204928addb7599bbfa7682": {
          "model_module": "@jupyter-widgets/base",
          "model_name": "LayoutModel",
          "state": {
            "_view_name": "LayoutView",
            "grid_template_rows": null,
            "right": null,
            "justify_content": null,
            "_view_module": "@jupyter-widgets/base",
            "overflow": null,
            "_model_module_version": "1.2.0",
            "_view_count": null,
            "flex_flow": null,
            "width": null,
            "min_width": null,
            "border": null,
            "align_items": null,
            "bottom": null,
            "_model_module": "@jupyter-widgets/base",
            "top": null,
            "grid_column": null,
            "overflow_y": null,
            "overflow_x": null,
            "grid_auto_flow": null,
            "grid_area": null,
            "grid_template_columns": null,
            "flex": null,
            "_model_name": "LayoutModel",
            "justify_items": null,
            "grid_row": null,
            "max_height": null,
            "align_content": null,
            "visibility": null,
            "align_self": null,
            "height": null,
            "min_height": null,
            "padding": null,
            "grid_auto_rows": null,
            "grid_gap": null,
            "max_width": null,
            "order": null,
            "_view_module_version": "1.2.0",
            "grid_template_areas": null,
            "object_position": null,
            "object_fit": null,
            "grid_auto_columns": null,
            "margin": null,
            "display": null,
            "left": null
          }
        },
        "be9d093dd1c541af966aedbfd307ac29": {
          "model_module": "@jupyter-widgets/controls",
          "model_name": "FloatProgressModel",
          "state": {
            "_view_name": "ProgressView",
            "style": "IPY_MODEL_289e5bb1b918458ba20c42cb655151dd",
            "_dom_classes": [],
            "description": "100%",
            "_model_name": "FloatProgressModel",
            "bar_style": "success",
            "max": 3080,
            "_view_module": "@jupyter-widgets/controls",
            "_model_module_version": "1.5.0",
            "value": 3080,
            "_view_count": null,
            "_view_module_version": "1.5.0",
            "orientation": "horizontal",
            "min": 0,
            "description_tooltip": null,
            "_model_module": "@jupyter-widgets/controls",
            "layout": "IPY_MODEL_ed7c980da50345f18d5d50e3b994d307"
          }
        },
        "2bbe5518f2aa4f28b7947e6f1419afa3": {
          "model_module": "@jupyter-widgets/controls",
          "model_name": "HTMLModel",
          "state": {
            "_view_name": "HTMLView",
            "style": "IPY_MODEL_5d0d96296e924eb0bc47f86e3120687c",
            "_dom_classes": [],
            "description": "",
            "_model_name": "HTMLModel",
            "placeholder": "​",
            "_view_module": "@jupyter-widgets/controls",
            "_model_module_version": "1.5.0",
            "value": " 3080/3080 [26:18&lt;00:00,  1.95it/s]",
            "_view_count": null,
            "_view_module_version": "1.5.0",
            "description_tooltip": null,
            "_model_module": "@jupyter-widgets/controls",
            "layout": "IPY_MODEL_71be7085c3754a688576541c692b5fbf"
          }
        },
        "289e5bb1b918458ba20c42cb655151dd": {
          "model_module": "@jupyter-widgets/controls",
          "model_name": "ProgressStyleModel",
          "state": {
            "_view_name": "StyleView",
            "_model_name": "ProgressStyleModel",
            "description_width": "initial",
            "_view_module": "@jupyter-widgets/base",
            "_model_module_version": "1.5.0",
            "_view_count": null,
            "_view_module_version": "1.2.0",
            "bar_color": null,
            "_model_module": "@jupyter-widgets/controls"
          }
        },
        "ed7c980da50345f18d5d50e3b994d307": {
          "model_module": "@jupyter-widgets/base",
          "model_name": "LayoutModel",
          "state": {
            "_view_name": "LayoutView",
            "grid_template_rows": null,
            "right": null,
            "justify_content": null,
            "_view_module": "@jupyter-widgets/base",
            "overflow": null,
            "_model_module_version": "1.2.0",
            "_view_count": null,
            "flex_flow": null,
            "width": null,
            "min_width": null,
            "border": null,
            "align_items": null,
            "bottom": null,
            "_model_module": "@jupyter-widgets/base",
            "top": null,
            "grid_column": null,
            "overflow_y": null,
            "overflow_x": null,
            "grid_auto_flow": null,
            "grid_area": null,
            "grid_template_columns": null,
            "flex": null,
            "_model_name": "LayoutModel",
            "justify_items": null,
            "grid_row": null,
            "max_height": null,
            "align_content": null,
            "visibility": null,
            "align_self": null,
            "height": null,
            "min_height": null,
            "padding": null,
            "grid_auto_rows": null,
            "grid_gap": null,
            "max_width": null,
            "order": null,
            "_view_module_version": "1.2.0",
            "grid_template_areas": null,
            "object_position": null,
            "object_fit": null,
            "grid_auto_columns": null,
            "margin": null,
            "display": null,
            "left": null
          }
        },
        "5d0d96296e924eb0bc47f86e3120687c": {
          "model_module": "@jupyter-widgets/controls",
          "model_name": "DescriptionStyleModel",
          "state": {
            "_view_name": "StyleView",
            "_model_name": "DescriptionStyleModel",
            "description_width": "",
            "_view_module": "@jupyter-widgets/base",
            "_model_module_version": "1.5.0",
            "_view_count": null,
            "_view_module_version": "1.2.0",
            "_model_module": "@jupyter-widgets/controls"
          }
        },
        "71be7085c3754a688576541c692b5fbf": {
          "model_module": "@jupyter-widgets/base",
          "model_name": "LayoutModel",
          "state": {
            "_view_name": "LayoutView",
            "grid_template_rows": null,
            "right": null,
            "justify_content": null,
            "_view_module": "@jupyter-widgets/base",
            "overflow": null,
            "_model_module_version": "1.2.0",
            "_view_count": null,
            "flex_flow": null,
            "width": null,
            "min_width": null,
            "border": null,
            "align_items": null,
            "bottom": null,
            "_model_module": "@jupyter-widgets/base",
            "top": null,
            "grid_column": null,
            "overflow_y": null,
            "overflow_x": null,
            "grid_auto_flow": null,
            "grid_area": null,
            "grid_template_columns": null,
            "flex": null,
            "_model_name": "LayoutModel",
            "justify_items": null,
            "grid_row": null,
            "max_height": null,
            "align_content": null,
            "visibility": null,
            "align_self": null,
            "height": null,
            "min_height": null,
            "padding": null,
            "grid_auto_rows": null,
            "grid_gap": null,
            "max_width": null,
            "order": null,
            "_view_module_version": "1.2.0",
            "grid_template_areas": null,
            "object_position": null,
            "object_fit": null,
            "grid_auto_columns": null,
            "margin": null,
            "display": null,
            "left": null
          }
        },
        "adb76dace7944db4a4fdc6346ac37f32": {
          "model_module": "@jupyter-widgets/controls",
          "model_name": "HBoxModel",
          "state": {
            "_view_name": "HBoxView",
            "_dom_classes": [],
            "_model_name": "HBoxModel",
            "_view_module": "@jupyter-widgets/controls",
            "_model_module_version": "1.5.0",
            "_view_count": null,
            "_view_module_version": "1.5.0",
            "box_style": "",
            "layout": "IPY_MODEL_b6147c7230c54649b56e2461c2b3b1e6",
            "_model_module": "@jupyter-widgets/controls",
            "children": [
              "IPY_MODEL_8373c86483374d1b9d82c183319641dc",
              "IPY_MODEL_319d27f2ae75466aacd87aecf481a541"
            ]
          }
        },
        "b6147c7230c54649b56e2461c2b3b1e6": {
          "model_module": "@jupyter-widgets/base",
          "model_name": "LayoutModel",
          "state": {
            "_view_name": "LayoutView",
            "grid_template_rows": null,
            "right": null,
            "justify_content": null,
            "_view_module": "@jupyter-widgets/base",
            "overflow": null,
            "_model_module_version": "1.2.0",
            "_view_count": null,
            "flex_flow": null,
            "width": null,
            "min_width": null,
            "border": null,
            "align_items": null,
            "bottom": null,
            "_model_module": "@jupyter-widgets/base",
            "top": null,
            "grid_column": null,
            "overflow_y": null,
            "overflow_x": null,
            "grid_auto_flow": null,
            "grid_area": null,
            "grid_template_columns": null,
            "flex": null,
            "_model_name": "LayoutModel",
            "justify_items": null,
            "grid_row": null,
            "max_height": null,
            "align_content": null,
            "visibility": null,
            "align_self": null,
            "height": null,
            "min_height": null,
            "padding": null,
            "grid_auto_rows": null,
            "grid_gap": null,
            "max_width": null,
            "order": null,
            "_view_module_version": "1.2.0",
            "grid_template_areas": null,
            "object_position": null,
            "object_fit": null,
            "grid_auto_columns": null,
            "margin": null,
            "display": null,
            "left": null
          }
        },
        "8373c86483374d1b9d82c183319641dc": {
          "model_module": "@jupyter-widgets/controls",
          "model_name": "FloatProgressModel",
          "state": {
            "_view_name": "ProgressView",
            "style": "IPY_MODEL_95bca0dca7df4791ace3bfdbd103b698",
            "_dom_classes": [],
            "description": "100%",
            "_model_name": "FloatProgressModel",
            "bar_style": "success",
            "max": 2200,
            "_view_module": "@jupyter-widgets/controls",
            "_model_module_version": "1.5.0",
            "value": 2200,
            "_view_count": null,
            "_view_module_version": "1.5.0",
            "orientation": "horizontal",
            "min": 0,
            "description_tooltip": null,
            "_model_module": "@jupyter-widgets/controls",
            "layout": "IPY_MODEL_d434c265f23742c6a81c1376184d6906"
          }
        },
        "319d27f2ae75466aacd87aecf481a541": {
          "model_module": "@jupyter-widgets/controls",
          "model_name": "HTMLModel",
          "state": {
            "_view_name": "HTMLView",
            "style": "IPY_MODEL_96f8adf243cd4aba9313a6951c6c3f21",
            "_dom_classes": [],
            "description": "",
            "_model_name": "HTMLModel",
            "placeholder": "​",
            "_view_module": "@jupyter-widgets/controls",
            "_model_module_version": "1.5.0",
            "value": " 2200/2200 [09:18&lt;00:00,  3.94it/s]",
            "_view_count": null,
            "_view_module_version": "1.5.0",
            "description_tooltip": null,
            "_model_module": "@jupyter-widgets/controls",
            "layout": "IPY_MODEL_7a0d9ca8f3254108a069ab3127ed16dc"
          }
        },
        "95bca0dca7df4791ace3bfdbd103b698": {
          "model_module": "@jupyter-widgets/controls",
          "model_name": "ProgressStyleModel",
          "state": {
            "_view_name": "StyleView",
            "_model_name": "ProgressStyleModel",
            "description_width": "initial",
            "_view_module": "@jupyter-widgets/base",
            "_model_module_version": "1.5.0",
            "_view_count": null,
            "_view_module_version": "1.2.0",
            "bar_color": null,
            "_model_module": "@jupyter-widgets/controls"
          }
        },
        "d434c265f23742c6a81c1376184d6906": {
          "model_module": "@jupyter-widgets/base",
          "model_name": "LayoutModel",
          "state": {
            "_view_name": "LayoutView",
            "grid_template_rows": null,
            "right": null,
            "justify_content": null,
            "_view_module": "@jupyter-widgets/base",
            "overflow": null,
            "_model_module_version": "1.2.0",
            "_view_count": null,
            "flex_flow": null,
            "width": null,
            "min_width": null,
            "border": null,
            "align_items": null,
            "bottom": null,
            "_model_module": "@jupyter-widgets/base",
            "top": null,
            "grid_column": null,
            "overflow_y": null,
            "overflow_x": null,
            "grid_auto_flow": null,
            "grid_area": null,
            "grid_template_columns": null,
            "flex": null,
            "_model_name": "LayoutModel",
            "justify_items": null,
            "grid_row": null,
            "max_height": null,
            "align_content": null,
            "visibility": null,
            "align_self": null,
            "height": null,
            "min_height": null,
            "padding": null,
            "grid_auto_rows": null,
            "grid_gap": null,
            "max_width": null,
            "order": null,
            "_view_module_version": "1.2.0",
            "grid_template_areas": null,
            "object_position": null,
            "object_fit": null,
            "grid_auto_columns": null,
            "margin": null,
            "display": null,
            "left": null
          }
        },
        "96f8adf243cd4aba9313a6951c6c3f21": {
          "model_module": "@jupyter-widgets/controls",
          "model_name": "DescriptionStyleModel",
          "state": {
            "_view_name": "StyleView",
            "_model_name": "DescriptionStyleModel",
            "description_width": "",
            "_view_module": "@jupyter-widgets/base",
            "_model_module_version": "1.5.0",
            "_view_count": null,
            "_view_module_version": "1.2.0",
            "_model_module": "@jupyter-widgets/controls"
          }
        },
        "7a0d9ca8f3254108a069ab3127ed16dc": {
          "model_module": "@jupyter-widgets/base",
          "model_name": "LayoutModel",
          "state": {
            "_view_name": "LayoutView",
            "grid_template_rows": null,
            "right": null,
            "justify_content": null,
            "_view_module": "@jupyter-widgets/base",
            "overflow": null,
            "_model_module_version": "1.2.0",
            "_view_count": null,
            "flex_flow": null,
            "width": null,
            "min_width": null,
            "border": null,
            "align_items": null,
            "bottom": null,
            "_model_module": "@jupyter-widgets/base",
            "top": null,
            "grid_column": null,
            "overflow_y": null,
            "overflow_x": null,
            "grid_auto_flow": null,
            "grid_area": null,
            "grid_template_columns": null,
            "flex": null,
            "_model_name": "LayoutModel",
            "justify_items": null,
            "grid_row": null,
            "max_height": null,
            "align_content": null,
            "visibility": null,
            "align_self": null,
            "height": null,
            "min_height": null,
            "padding": null,
            "grid_auto_rows": null,
            "grid_gap": null,
            "max_width": null,
            "order": null,
            "_view_module_version": "1.2.0",
            "grid_template_areas": null,
            "object_position": null,
            "object_fit": null,
            "grid_auto_columns": null,
            "margin": null,
            "display": null,
            "left": null
          }
        },
        "c93c437903224db491943b5267b2b8e4": {
          "model_module": "@jupyter-widgets/controls",
          "model_name": "HBoxModel",
          "state": {
            "_view_name": "HBoxView",
            "_dom_classes": [],
            "_model_name": "HBoxModel",
            "_view_module": "@jupyter-widgets/controls",
            "_model_module_version": "1.5.0",
            "_view_count": null,
            "_view_module_version": "1.5.0",
            "box_style": "",
            "layout": "IPY_MODEL_bf01483462b544f0a9befd2e73b4b86f",
            "_model_module": "@jupyter-widgets/controls",
            "children": [
              "IPY_MODEL_601a954563ab42e38c718bf0c62e0f3f",
              "IPY_MODEL_7f7a7a0cf9c448cb827ff5889a781529"
            ]
          }
        },
        "bf01483462b544f0a9befd2e73b4b86f": {
          "model_module": "@jupyter-widgets/base",
          "model_name": "LayoutModel",
          "state": {
            "_view_name": "LayoutView",
            "grid_template_rows": null,
            "right": null,
            "justify_content": null,
            "_view_module": "@jupyter-widgets/base",
            "overflow": null,
            "_model_module_version": "1.2.0",
            "_view_count": null,
            "flex_flow": null,
            "width": null,
            "min_width": null,
            "border": null,
            "align_items": null,
            "bottom": null,
            "_model_module": "@jupyter-widgets/base",
            "top": null,
            "grid_column": null,
            "overflow_y": null,
            "overflow_x": null,
            "grid_auto_flow": null,
            "grid_area": null,
            "grid_template_columns": null,
            "flex": null,
            "_model_name": "LayoutModel",
            "justify_items": null,
            "grid_row": null,
            "max_height": null,
            "align_content": null,
            "visibility": null,
            "align_self": null,
            "height": null,
            "min_height": null,
            "padding": null,
            "grid_auto_rows": null,
            "grid_gap": null,
            "max_width": null,
            "order": null,
            "_view_module_version": "1.2.0",
            "grid_template_areas": null,
            "object_position": null,
            "object_fit": null,
            "grid_auto_columns": null,
            "margin": null,
            "display": null,
            "left": null
          }
        },
        "601a954563ab42e38c718bf0c62e0f3f": {
          "model_module": "@jupyter-widgets/controls",
          "model_name": "FloatProgressModel",
          "state": {
            "_view_name": "ProgressView",
            "style": "IPY_MODEL_cd31cb67446f4c96979c588bfb96be38",
            "_dom_classes": [],
            "description": "100%",
            "_model_name": "FloatProgressModel",
            "bar_style": "success",
            "max": 880,
            "_view_module": "@jupyter-widgets/controls",
            "_model_module_version": "1.5.0",
            "value": 880,
            "_view_count": null,
            "_view_module_version": "1.5.0",
            "orientation": "horizontal",
            "min": 0,
            "description_tooltip": null,
            "_model_module": "@jupyter-widgets/controls",
            "layout": "IPY_MODEL_dc755f3fb48144048e1440ce7706bc97"
          }
        },
        "7f7a7a0cf9c448cb827ff5889a781529": {
          "model_module": "@jupyter-widgets/controls",
          "model_name": "HTMLModel",
          "state": {
            "_view_name": "HTMLView",
            "style": "IPY_MODEL_b6069bdf7b9044118adecddcd32164a2",
            "_dom_classes": [],
            "description": "",
            "_model_name": "HTMLModel",
            "placeholder": "​",
            "_view_module": "@jupyter-widgets/controls",
            "_model_module_version": "1.5.0",
            "value": " 880/880 [06:13&lt;00:00,  2.36it/s]",
            "_view_count": null,
            "_view_module_version": "1.5.0",
            "description_tooltip": null,
            "_model_module": "@jupyter-widgets/controls",
            "layout": "IPY_MODEL_6efec254b1ad481bba8a90cf998b3306"
          }
        },
        "cd31cb67446f4c96979c588bfb96be38": {
          "model_module": "@jupyter-widgets/controls",
          "model_name": "ProgressStyleModel",
          "state": {
            "_view_name": "StyleView",
            "_model_name": "ProgressStyleModel",
            "description_width": "initial",
            "_view_module": "@jupyter-widgets/base",
            "_model_module_version": "1.5.0",
            "_view_count": null,
            "_view_module_version": "1.2.0",
            "bar_color": null,
            "_model_module": "@jupyter-widgets/controls"
          }
        },
        "dc755f3fb48144048e1440ce7706bc97": {
          "model_module": "@jupyter-widgets/base",
          "model_name": "LayoutModel",
          "state": {
            "_view_name": "LayoutView",
            "grid_template_rows": null,
            "right": null,
            "justify_content": null,
            "_view_module": "@jupyter-widgets/base",
            "overflow": null,
            "_model_module_version": "1.2.0",
            "_view_count": null,
            "flex_flow": null,
            "width": null,
            "min_width": null,
            "border": null,
            "align_items": null,
            "bottom": null,
            "_model_module": "@jupyter-widgets/base",
            "top": null,
            "grid_column": null,
            "overflow_y": null,
            "overflow_x": null,
            "grid_auto_flow": null,
            "grid_area": null,
            "grid_template_columns": null,
            "flex": null,
            "_model_name": "LayoutModel",
            "justify_items": null,
            "grid_row": null,
            "max_height": null,
            "align_content": null,
            "visibility": null,
            "align_self": null,
            "height": null,
            "min_height": null,
            "padding": null,
            "grid_auto_rows": null,
            "grid_gap": null,
            "max_width": null,
            "order": null,
            "_view_module_version": "1.2.0",
            "grid_template_areas": null,
            "object_position": null,
            "object_fit": null,
            "grid_auto_columns": null,
            "margin": null,
            "display": null,
            "left": null
          }
        },
        "b6069bdf7b9044118adecddcd32164a2": {
          "model_module": "@jupyter-widgets/controls",
          "model_name": "DescriptionStyleModel",
          "state": {
            "_view_name": "StyleView",
            "_model_name": "DescriptionStyleModel",
            "description_width": "",
            "_view_module": "@jupyter-widgets/base",
            "_model_module_version": "1.5.0",
            "_view_count": null,
            "_view_module_version": "1.2.0",
            "_model_module": "@jupyter-widgets/controls"
          }
        },
        "6efec254b1ad481bba8a90cf998b3306": {
          "model_module": "@jupyter-widgets/base",
          "model_name": "LayoutModel",
          "state": {
            "_view_name": "LayoutView",
            "grid_template_rows": null,
            "right": null,
            "justify_content": null,
            "_view_module": "@jupyter-widgets/base",
            "overflow": null,
            "_model_module_version": "1.2.0",
            "_view_count": null,
            "flex_flow": null,
            "width": null,
            "min_width": null,
            "border": null,
            "align_items": null,
            "bottom": null,
            "_model_module": "@jupyter-widgets/base",
            "top": null,
            "grid_column": null,
            "overflow_y": null,
            "overflow_x": null,
            "grid_auto_flow": null,
            "grid_area": null,
            "grid_template_columns": null,
            "flex": null,
            "_model_name": "LayoutModel",
            "justify_items": null,
            "grid_row": null,
            "max_height": null,
            "align_content": null,
            "visibility": null,
            "align_self": null,
            "height": null,
            "min_height": null,
            "padding": null,
            "grid_auto_rows": null,
            "grid_gap": null,
            "max_width": null,
            "order": null,
            "_view_module_version": "1.2.0",
            "grid_template_areas": null,
            "object_position": null,
            "object_fit": null,
            "grid_auto_columns": null,
            "margin": null,
            "display": null,
            "left": null
          }
        }
      }
    },
    "accelerator": "GPU"
  },
  "cells": [
    {
      "cell_type": "markdown",
      "metadata": {
        "id": "view-in-github",
        "colab_type": "text"
      },
      "source": [
        "<a href=\"https://colab.research.google.com/github/kategavrishina/info-search/blob/master/HW3/sem3_ner.ipynb\" target=\"_parent\"><img src=\"https://colab.research.google.com/assets/colab-badge.svg\" alt=\"Open In Colab\"/></a>"
      ]
    },
    {
      "cell_type": "markdown",
      "metadata": {
        "id": "zAVyOpG_ZCWw"
      },
      "source": [
        "## Лекция 3  NER"
      ]
    },
    {
      "cell_type": "markdown",
      "metadata": {
        "id": "VfLLPFW2ZCWz"
      },
      "source": [
        "### __Задача 1__:\n",
        "\n",
        "Реализуйте 2 функции препроцессинга:\n",
        "\n",
        "- Удалить именованные сущности с помощью natasha (https://github.com/natasha/yargy)\n",
        "- Удалить именованные сущности с помощью deepmipt (https://github.com/deepmipt/ner)"
      ]
    },
    {
      "cell_type": "code",
      "metadata": {
        "id": "2bUBsvzIcVq6"
      },
      "source": [
        "! pip install natasha"
      ],
      "execution_count": null,
      "outputs": []
    },
    {
      "cell_type": "code",
      "metadata": {
        "id": "0oLixk_vFtC4"
      },
      "source": [
        "! pip install deeppavlov"
      ],
      "execution_count": null,
      "outputs": []
    },
    {
      "cell_type": "code",
      "metadata": {
        "id": "TOPB6IdVdc2Y"
      },
      "source": [
        "text1 = \"\"\"Школа анализа данных за 25 млрд долларов возникла в 2007 году на улице Крылова, д. 6 с целью восполнить недостаток квалифицированных кадров на рынке труда, с которым столкнулся Яндекс в то время. 24.02.13 Научным руководителем ШАД стал профессор Ратгерского университета Илья Мучник, директором — Елена Бунина.\"\"\""
      ],
      "execution_count": 12,
      "outputs": []
    },
    {
      "cell_type": "code",
      "metadata": {
        "id": "QTlBheXpdJeQ"
      },
      "source": [
        "from natasha import (\n",
        "    Segmenter,\n",
        "    MorphVocab,\n",
        "    \n",
        "    NewsEmbedding,\n",
        "    NewsMorphTagger,\n",
        "    NewsSyntaxParser,\n",
        "    NewsNERTagger,\n",
        "    \n",
        "    PER,\n",
        "    DatesExtractor,\n",
        "    MoneyExtractor,\n",
        "    AddrExtractor,\n",
        "\n",
        "    Doc\n",
        ")\n",
        "\n",
        "segmenter = Segmenter()\n",
        "\n",
        "morph_vocab = MorphVocab()\n",
        "\n",
        "emb = NewsEmbedding()\n",
        "morph_tagger = NewsMorphTagger(emb)\n",
        "syntax_parser = NewsSyntaxParser(emb)\n",
        "ner_tagger = NewsNERTagger(emb)"
      ],
      "execution_count": 2,
      "outputs": []
    },
    {
      "cell_type": "code",
      "metadata": {
        "id": "EPW0YETfscAG"
      },
      "source": [
        "dates_extractor = DatesExtractor(morph_vocab)\n",
        "money_extractor = MoneyExtractor(morph_vocab)\n",
        "addr_extractor = AddrExtractor(morph_vocab)"
      ],
      "execution_count": 3,
      "outputs": []
    },
    {
      "cell_type": "code",
      "metadata": {
        "id": "wfTR7SO4ZCW2"
      },
      "source": [
        "extractors = [\n",
        "              dates_extractor,\n",
        "              money_extractor,\n",
        "              addr_extractor\n",
        "]\n",
        "\n",
        "def preprocess_with_natasha(text: str) -> str:\n",
        "\n",
        "    doc = Doc(text)\n",
        "\n",
        "    doc.segment(segmenter)\n",
        "    doc.tag_morph(morph_tagger)\n",
        "    doc.parse_syntax(syntax_parser)\n",
        "    doc.tag_ner(ner_tagger)\n",
        "\n",
        "    indices = []\n",
        "    for span in doc.spans:\n",
        "        if span.type == \"PER\":\n",
        "            indices.append((span.start, span.stop))\n",
        "    for pair in sorted(indices)[::-1]:\n",
        "        text = text[:pair[0]] + text[pair[1]:]\n",
        "\n",
        "    for extractor in extractors:\n",
        "        idx = []\n",
        "        for match in list(extractor(text)):\n",
        "            idx.append((match.start, match.stop))\n",
        "        for pair in sorted(idx)[::-1]:\n",
        "            text = text[:pair[0]] + text[pair[1]:]\n",
        "    \n",
        "    return text"
      ],
      "execution_count": 4,
      "outputs": []
    },
    {
      "cell_type": "code",
      "metadata": {
        "id": "VXsEU6w1EKmm"
      },
      "source": [
        "from deeppavlov import configs, build_model"
      ],
      "execution_count": 5,
      "outputs": []
    },
    {
      "cell_type": "code",
      "metadata": {
        "id": "Nz2EhK-7foSW"
      },
      "source": [
        "! python -m deeppavlov install ner_rus_bert"
      ],
      "execution_count": null,
      "outputs": []
    },
    {
      "cell_type": "code",
      "metadata": {
        "id": "0Z1SSWX3IjR7"
      },
      "source": [
        "ner_model = build_model(configs.ner.ner_rus_bert, download=True)"
      ],
      "execution_count": null,
      "outputs": []
    },
    {
      "cell_type": "code",
      "metadata": {
        "id": "RBpaUzn7FUDu",
        "outputId": "367a6f9f-c683-411e-e9df-365f9e1f80b3",
        "colab": {
          "base_uri": "https://localhost:8080/",
          "height": 35
        }
      },
      "source": [
        "! pip install razdel"
      ],
      "execution_count": 11,
      "outputs": [
        {
          "output_type": "stream",
          "text": [
            "Requirement already satisfied: razdel in /usr/local/lib/python3.6/dist-packages (0.5.0)\n"
          ],
          "name": "stdout"
        }
      ]
    },
    {
      "cell_type": "code",
      "metadata": {
        "id": "rkX-vHfiD2uW"
      },
      "source": [
        "from razdel import sentenize\n",
        "\n",
        "def preprocess_with_deeppavlov(text: str) -> str:\n",
        "    clean_text = []\n",
        "    sents = [j.text for j in list(sentenize(text))]\n",
        "    result = ner_model(sents)\n",
        "    for i in range(len(result[0])):\n",
        "        for word, tag in zip(result[0][i], result[1][i]):\n",
        "            if tag == 'O':\n",
        "                clean_text.append(word)\n",
        "    return ' '.join(clean_text)"
      ],
      "execution_count": 6,
      "outputs": []
    },
    {
      "cell_type": "code",
      "metadata": {
        "id": "wkZENeMQDctr"
      },
      "source": [
        "import pymorphy2\n",
        "morph = pymorphy2.MorphAnalyzer()"
      ],
      "execution_count": 7,
      "outputs": []
    },
    {
      "cell_type": "code",
      "metadata": {
        "id": "bFY7Q6_dLwSg",
        "outputId": "53a281c5-f588-408e-fa9f-57b8c1e7a1e8",
        "colab": {
          "base_uri": "https://localhost:8080/",
          "height": 70
        }
      },
      "source": [
        "import nltk\n",
        "nltk.download('stopwords')"
      ],
      "execution_count": 8,
      "outputs": [
        {
          "output_type": "stream",
          "text": [
            "[nltk_data] Downloading package stopwords to /root/nltk_data...\n",
            "[nltk_data]   Package stopwords is already up-to-date!\n"
          ],
          "name": "stderr"
        },
        {
          "output_type": "execute_result",
          "data": {
            "text/plain": [
              "True"
            ]
          },
          "metadata": {
            "tags": []
          },
          "execution_count": 8
        }
      ]
    },
    {
      "cell_type": "code",
      "metadata": {
        "id": "mYvG5PuOL60_"
      },
      "source": [
        "from nltk.corpus import stopwords\n",
        "\n",
        "russian_stopwords = stopwords.words(\"russian\")"
      ],
      "execution_count": 9,
      "outputs": []
    },
    {
      "cell_type": "code",
      "metadata": {
        "id": "nkyOQHzdDSdV"
      },
      "source": [
        "def preprocess(f):\n",
        "    sym = \"0123456789.,?!…:;()[]-—_|/\\\"'«»*{}<>@#$%^&№\"\n",
        "    s = []\n",
        "    words = f.strip().lower().split()\n",
        "    for word in words:\n",
        "        word = word.strip(sym)\n",
        "        if word != '':\n",
        "            word = morph.parse(word)[0].normal_form\n",
        "            if word not in russian_stopwords:\n",
        "                s.append(word)\n",
        "    return s"
      ],
      "execution_count": 10,
      "outputs": []
    },
    {
      "cell_type": "code",
      "metadata": {
        "id": "1UkzE-B5XetB",
        "outputId": "08c3e394-fb38-47c2-be89-9189e5da9e58",
        "colab": {
          "base_uri": "https://localhost:8080/",
          "height": 53
        }
      },
      "source": [
        "preprocess_with_natasha(text1)"
      ],
      "execution_count": 13,
      "outputs": [
        {
          "output_type": "execute_result",
          "data": {
            "application/vnd.google.colaboratory.intrinsic+json": {
              "type": "string"
            },
            "text/plain": [
              "'Школа анализа данных за  возникла в  на ,  целью восполнить недостаток квалифицированных кадров на рынке труда, с которым столкнулся Яндекс в то время.  Научным руководителем ШАД стал профессор Ратгерского университета , директором — .'"
            ]
          },
          "metadata": {
            "tags": []
          },
          "execution_count": 13
        }
      ]
    },
    {
      "cell_type": "code",
      "metadata": {
        "id": "8CubVrrWlPi-"
      },
      "source": [
        "preprocess_with_deeppavlov(text1)"
      ],
      "execution_count": null,
      "outputs": []
    },
    {
      "cell_type": "markdown",
      "metadata": {
        "id": "kt_5gvaiZCXT"
      },
      "source": [
        "### __Задача 2__:    \n",
        "На предыдущем занятии вы реализовывали функции поиска ближайших ответов на запросы через TF-IDF и BM25. \n",
        "Сравните качество нахождения верного ответа для обоих методов в трех случаях:\n",
        "- с функцией ```preprocess_with_natasha```\n",
        "- с функцией ```preprocess_with_deepmipt```\n",
        "- без препроцессинга\n",
        "\n",
        "Для измерения качества используйте метрику accuracy. Считаем, что ответ верный, если он входит в топ-1."
      ]
    },
    {
      "cell_type": "code",
      "metadata": {
        "id": "pfaLgX4_L_o3"
      },
      "source": [
        "import pandas as pd"
      ],
      "execution_count": 15,
      "outputs": []
    },
    {
      "cell_type": "code",
      "metadata": {
        "id": "sVXMUOK0MJQj"
      },
      "source": [
        "ans = pd.read_excel('answers_base.xlsx')"
      ],
      "execution_count": 24,
      "outputs": []
    },
    {
      "cell_type": "code",
      "metadata": {
        "id": "0No4ESzAMJUk",
        "outputId": "ffe06444-9034-4488-e873-276992401703",
        "colab": {
          "base_uri": "https://localhost:8080/",
          "height": 194
        }
      },
      "source": [
        "ans.head()"
      ],
      "execution_count": 25,
      "outputs": [
        {
          "output_type": "execute_result",
          "data": {
            "text/html": [
              "<div>\n",
              "<style scoped>\n",
              "    .dataframe tbody tr th:only-of-type {\n",
              "        vertical-align: middle;\n",
              "    }\n",
              "\n",
              "    .dataframe tbody tr th {\n",
              "        vertical-align: top;\n",
              "    }\n",
              "\n",
              "    .dataframe thead th {\n",
              "        text-align: right;\n",
              "    }\n",
              "</style>\n",
              "<table border=\"1\" class=\"dataframe\">\n",
              "  <thead>\n",
              "    <tr style=\"text-align: right;\">\n",
              "      <th style=\"min-width: {};\"></th>\n",
              "      <th style=\"min-width: {};\">Номер связки</th>\n",
              "      <th style=\"min-width: {};\">Текст вопросов</th>\n",
              "      <th style=\"min-width: {};\">Текст ответа</th>\n",
              "      <th style=\"min-width: {};\">Тематика</th>\n",
              "    </tr>\n",
              "  </thead>\n",
              "  <tbody>\n",
              "    <tr>\n",
              "      <th>0</th>\n",
              "      <td>57</td>\n",
              "      <td>У ребенка в школе продлили каникулы. Могу ли я...</td>\n",
              "      <td>Листок временной нетрудоспособности (больничны...</td>\n",
              "      <td>БОЛЬНИЧНЫЙ ЛИСТ</td>\n",
              "    </tr>\n",
              "    <tr>\n",
              "      <th>1</th>\n",
              "      <td>78</td>\n",
              "      <td>Где сделать вакцинацию от коронавируса?\\nСущес...</td>\n",
              "      <td>Коронавирусы - это целое семейство вирусов, ко...</td>\n",
              "      <td>ВАКЦИНАЦИЯ</td>\n",
              "    </tr>\n",
              "    <tr>\n",
              "      <th>2</th>\n",
              "      <td>326</td>\n",
              "      <td>Сколько стоит сделать вакцину от гриппа?\\nМожн...</td>\n",
              "      <td>Бесплатно пройти вакцинацию можно в Вашей меди...</td>\n",
              "      <td>ВАКЦИНАЦИЯ</td>\n",
              "    </tr>\n",
              "    <tr>\n",
              "      <th>3</th>\n",
              "      <td>327</td>\n",
              "      <td>Могу я отказаться от вакцинации?\\nВ каких случ...</td>\n",
              "      <td>Согласно приказу Министерства здравоохранения ...</td>\n",
              "      <td>ВАКЦИНАЦИЯ</td>\n",
              "    </tr>\n",
              "    <tr>\n",
              "      <th>4</th>\n",
              "      <td>328</td>\n",
              "      <td>Безопасна ли вакцинация?\\nОпасна ли вакцинация...</td>\n",
              "      <td>В соответствии с пунктами 1 и 2 статьи 12 Феде...</td>\n",
              "      <td>ВАКЦИНАЦИЯ</td>\n",
              "    </tr>\n",
              "  </tbody>\n",
              "</table>\n",
              "</div>"
            ],
            "text/plain": [
              "   Номер связки  ...         Тематика\n",
              "0            57  ...  БОЛЬНИЧНЫЙ ЛИСТ\n",
              "1            78  ...       ВАКЦИНАЦИЯ\n",
              "2           326  ...       ВАКЦИНАЦИЯ\n",
              "3           327  ...       ВАКЦИНАЦИЯ\n",
              "4           328  ...       ВАКЦИНАЦИЯ\n",
              "\n",
              "[5 rows x 4 columns]"
            ]
          },
          "metadata": {
            "tags": []
          },
          "execution_count": 25
        }
      ]
    },
    {
      "cell_type": "code",
      "metadata": {
        "id": "RHGgqlK1Tly6"
      },
      "source": [
        "answers = pd.DataFrame(ans[['Номер связки', 'Текст ответа']])"
      ],
      "execution_count": 26,
      "outputs": []
    },
    {
      "cell_type": "code",
      "metadata": {
        "id": "6w3rwTSpvWbr"
      },
      "source": [
        "ans['Вопросы'] = ans['Текст вопросов'].apply(lambda text: text.split('\\n'))"
      ],
      "execution_count": 27,
      "outputs": []
    },
    {
      "cell_type": "code",
      "metadata": {
        "id": "OtjxfMA_vHjA"
      },
      "source": [
        "ans = ans.explode('Вопросы')"
      ],
      "execution_count": 28,
      "outputs": []
    },
    {
      "cell_type": "code",
      "metadata": {
        "id": "RreTUjJkVZJe"
      },
      "source": [
        "ans.reset_index(drop=True, inplace=True)\n",
        "ans.drop(['Текст вопросов', 'Текст ответа', 'Тематика'], axis=1, inplace=True)"
      ],
      "execution_count": 29,
      "outputs": []
    },
    {
      "cell_type": "code",
      "metadata": {
        "id": "Gmab1TcaUW36",
        "outputId": "4dcc84f9-8da0-4288-dcfb-104956e1dd2e",
        "colab": {
          "base_uri": "https://localhost:8080/",
          "height": 194
        }
      },
      "source": [
        "ans.head()"
      ],
      "execution_count": 30,
      "outputs": [
        {
          "output_type": "execute_result",
          "data": {
            "text/html": [
              "<div>\n",
              "<style scoped>\n",
              "    .dataframe tbody tr th:only-of-type {\n",
              "        vertical-align: middle;\n",
              "    }\n",
              "\n",
              "    .dataframe tbody tr th {\n",
              "        vertical-align: top;\n",
              "    }\n",
              "\n",
              "    .dataframe thead th {\n",
              "        text-align: right;\n",
              "    }\n",
              "</style>\n",
              "<table border=\"1\" class=\"dataframe\">\n",
              "  <thead>\n",
              "    <tr style=\"text-align: right;\">\n",
              "      <th style=\"min-width: {};\"></th>\n",
              "      <th style=\"min-width: {};\">Номер связки</th>\n",
              "      <th style=\"min-width: {};\">Вопросы</th>\n",
              "    </tr>\n",
              "  </thead>\n",
              "  <tbody>\n",
              "    <tr>\n",
              "      <th>0</th>\n",
              "      <td>57</td>\n",
              "      <td>У ребенка в школе продлили каникулы. Могу ли я...</td>\n",
              "    </tr>\n",
              "    <tr>\n",
              "      <th>1</th>\n",
              "      <td>57</td>\n",
              "      <td>Больничный лист?</td>\n",
              "    </tr>\n",
              "    <tr>\n",
              "      <th>2</th>\n",
              "      <td>57</td>\n",
              "      <td>Есть ли компенсация, в случае если есть разниц...</td>\n",
              "    </tr>\n",
              "    <tr>\n",
              "      <th>3</th>\n",
              "      <td>57</td>\n",
              "      <td>как оплачивается больничный при коронавирусе?</td>\n",
              "    </tr>\n",
              "    <tr>\n",
              "      <th>4</th>\n",
              "      <td>57</td>\n",
              "      <td>Я контактный, дадут ли больничный?</td>\n",
              "    </tr>\n",
              "  </tbody>\n",
              "</table>\n",
              "</div>"
            ],
            "text/plain": [
              "   Номер связки                                            Вопросы\n",
              "0            57  У ребенка в школе продлили каникулы. Могу ли я...\n",
              "1            57                                   Больничный лист?\n",
              "2            57  Есть ли компенсация, в случае если есть разниц...\n",
              "3            57      как оплачивается больничный при коронавирусе?\n",
              "4            57                 Я контактный, дадут ли больничный?"
            ]
          },
          "metadata": {
            "tags": []
          },
          "execution_count": 30
        }
      ]
    },
    {
      "cell_type": "code",
      "metadata": {
        "id": "IfrDDnV0W32F"
      },
      "source": [
        "q = pd.read_excel('queries_base.xlsx', usecols='A, B', names=['Вопросы', 'Номер связки'])"
      ],
      "execution_count": 31,
      "outputs": []
    },
    {
      "cell_type": "code",
      "metadata": {
        "id": "mOlzb1rBXA1p"
      },
      "source": [
        "q = q[['Номер связки', 'Вопросы']]"
      ],
      "execution_count": 32,
      "outputs": []
    },
    {
      "cell_type": "code",
      "metadata": {
        "id": "_HX5q8YF8l7w"
      },
      "source": [
        "data = pd.concat([ans, q], ignore_index=True)"
      ],
      "execution_count": 33,
      "outputs": []
    },
    {
      "cell_type": "code",
      "metadata": {
        "id": "pi4zPbK3N5l1"
      },
      "source": [
        "data['Preprocessed'] = data['Вопросы'].apply(lambda text: ' '.join(preprocess(str(text))))"
      ],
      "execution_count": 34,
      "outputs": []
    },
    {
      "cell_type": "code",
      "metadata": {
        "id": "xDAv2sDxAm5M"
      },
      "source": [
        "from tqdm.auto import tqdm"
      ],
      "execution_count": 26,
      "outputs": []
    },
    {
      "cell_type": "code",
      "metadata": {
        "id": "h-960UnTAm5R"
      },
      "source": [
        "tqdm.pandas()"
      ],
      "execution_count": 27,
      "outputs": []
    },
    {
      "cell_type": "code",
      "metadata": {
        "id": "8BdhTQpT3oxa",
        "outputId": "349a57c1-37a9-4d70-8d84-247092e0417c",
        "colab": {
          "base_uri": "https://localhost:8080/",
          "height": 67,
          "referenced_widgets": [
            "cc44d397fc774ba998a28983d43d9010",
            "114aa5ddaa8e44ceb97dfa37ae7abf22",
            "f7dc2a4b2725486fabca3571facd672a",
            "a3f039357c3840b8a68f916e553c1a1e",
            "bca99fd2b47b453cb9f519a3f8d3c763",
            "d2f65e5de3274d25987e8d9f67a5ad64",
            "9f0ef351e8774d7190c9398134ad0377",
            "7f8185688a18435dbc7c2a87c5c84621"
          ]
        }
      },
      "source": [
        "data['Natasha'] = data['Вопросы'].progress_apply(lambda text: ' '.join(preprocess(preprocess_with_natasha(str(text)))))"
      ],
      "execution_count": 37,
      "outputs": [
        {
          "output_type": "display_data",
          "data": {
            "application/vnd.jupyter.widget-view+json": {
              "model_id": "cc44d397fc774ba998a28983d43d9010",
              "version_minor": 0,
              "version_major": 2
            },
            "text/plain": [
              "HBox(children=(FloatProgress(value=0.0, max=3080.0), HTML(value='')))"
            ]
          },
          "metadata": {
            "tags": []
          }
        },
        {
          "output_type": "stream",
          "text": [
            "\n"
          ],
          "name": "stdout"
        }
      ]
    },
    {
      "cell_type": "code",
      "metadata": {
        "id": "Ns4lHrI54a5g",
        "outputId": "caa1bd83-c266-4603-8a27-24476376c389",
        "colab": {
          "base_uri": "https://localhost:8080/",
          "height": 194
        }
      },
      "source": [
        "data.head()"
      ],
      "execution_count": 38,
      "outputs": [
        {
          "output_type": "execute_result",
          "data": {
            "text/html": [
              "<div>\n",
              "<style scoped>\n",
              "    .dataframe tbody tr th:only-of-type {\n",
              "        vertical-align: middle;\n",
              "    }\n",
              "\n",
              "    .dataframe tbody tr th {\n",
              "        vertical-align: top;\n",
              "    }\n",
              "\n",
              "    .dataframe thead th {\n",
              "        text-align: right;\n",
              "    }\n",
              "</style>\n",
              "<table border=\"1\" class=\"dataframe\">\n",
              "  <thead>\n",
              "    <tr style=\"text-align: right;\">\n",
              "      <th style=\"min-width: {};\"></th>\n",
              "      <th style=\"min-width: {};\">Номер связки</th>\n",
              "      <th style=\"min-width: {};\">Вопросы</th>\n",
              "      <th style=\"min-width: {};\">Preprocessed</th>\n",
              "      <th style=\"min-width: {};\">Natasha</th>\n",
              "    </tr>\n",
              "  </thead>\n",
              "  <tbody>\n",
              "    <tr>\n",
              "      <th>0</th>\n",
              "      <td>57.0</td>\n",
              "      <td>У ребенка в школе продлили каникулы. Могу ли я...</td>\n",
              "      <td>ребёнок школа продлить каникулы мочь взять бол...</td>\n",
              "      <td>ребёнок школа продлить каникулы мочь взять бол...</td>\n",
              "    </tr>\n",
              "    <tr>\n",
              "      <th>1</th>\n",
              "      <td>57.0</td>\n",
              "      <td>Больничный лист?</td>\n",
              "      <td>больничный лист</td>\n",
              "      <td>больничный лист</td>\n",
              "    </tr>\n",
              "    <tr>\n",
              "      <th>2</th>\n",
              "      <td>57.0</td>\n",
              "      <td>Есть ли компенсация, в случае если есть разниц...</td>\n",
              "      <td>компенсация случай разница оплата больничный з...</td>\n",
              "      <td>компенсация случай разница оплата больничный з...</td>\n",
              "    </tr>\n",
              "    <tr>\n",
              "      <th>3</th>\n",
              "      <td>57.0</td>\n",
              "      <td>как оплачивается больничный при коронавирусе?</td>\n",
              "      <td>оплачиваться больничный коронавирус</td>\n",
              "      <td>оплачиваться больничный коронавирус</td>\n",
              "    </tr>\n",
              "    <tr>\n",
              "      <th>4</th>\n",
              "      <td>57.0</td>\n",
              "      <td>Я контактный, дадут ли больничный?</td>\n",
              "      <td>контактный дать больничный</td>\n",
              "      <td>контактный дать больничный</td>\n",
              "    </tr>\n",
              "  </tbody>\n",
              "</table>\n",
              "</div>"
            ],
            "text/plain": [
              "   Номер связки  ...                                            Natasha\n",
              "0          57.0  ...  ребёнок школа продлить каникулы мочь взять бол...\n",
              "1          57.0  ...                                    больничный лист\n",
              "2          57.0  ...  компенсация случай разница оплата больничный з...\n",
              "3          57.0  ...                оплачиваться больничный коронавирус\n",
              "4          57.0  ...                         контактный дать больничный\n",
              "\n",
              "[5 rows x 4 columns]"
            ]
          },
          "metadata": {
            "tags": []
          },
          "execution_count": 38
        }
      ]
    },
    {
      "cell_type": "code",
      "metadata": {
        "id": "c5lUcmLv4nbE",
        "outputId": "c64a410a-6e82-40ff-ee64-bc957c8e94d0",
        "colab": {
          "base_uri": "https://localhost:8080/",
          "height": 67,
          "referenced_widgets": [
            "56558c2bb91f48a085b40be2a5a6c47c",
            "9021f11400204928addb7599bbfa7682",
            "be9d093dd1c541af966aedbfd307ac29",
            "2bbe5518f2aa4f28b7947e6f1419afa3",
            "289e5bb1b918458ba20c42cb655151dd",
            "ed7c980da50345f18d5d50e3b994d307",
            "5d0d96296e924eb0bc47f86e3120687c",
            "71be7085c3754a688576541c692b5fbf"
          ]
        }
      },
      "source": [
        "data['DeepPavlov'] = data['Вопросы'].progress_apply(lambda text: ' '.join(preprocess(preprocess_with_deeppavlov(str(text)))))"
      ],
      "execution_count": 39,
      "outputs": [
        {
          "output_type": "display_data",
          "data": {
            "application/vnd.jupyter.widget-view+json": {
              "model_id": "56558c2bb91f48a085b40be2a5a6c47c",
              "version_minor": 0,
              "version_major": 2
            },
            "text/plain": [
              "HBox(children=(FloatProgress(value=0.0, max=3080.0), HTML(value='')))"
            ]
          },
          "metadata": {
            "tags": []
          }
        },
        {
          "output_type": "stream",
          "text": [
            "\n"
          ],
          "name": "stdout"
        }
      ]
    },
    {
      "cell_type": "code",
      "metadata": {
        "id": "vy-8nz1G5ed6",
        "outputId": "6763e7e0-f507-40b8-f301-0e1df46baf73",
        "colab": {
          "base_uri": "https://localhost:8080/",
          "height": 261
        }
      },
      "source": [
        "data.head()"
      ],
      "execution_count": 40,
      "outputs": [
        {
          "output_type": "execute_result",
          "data": {
            "text/html": [
              "<div>\n",
              "<style scoped>\n",
              "    .dataframe tbody tr th:only-of-type {\n",
              "        vertical-align: middle;\n",
              "    }\n",
              "\n",
              "    .dataframe tbody tr th {\n",
              "        vertical-align: top;\n",
              "    }\n",
              "\n",
              "    .dataframe thead th {\n",
              "        text-align: right;\n",
              "    }\n",
              "</style>\n",
              "<table border=\"1\" class=\"dataframe\">\n",
              "  <thead>\n",
              "    <tr style=\"text-align: right;\">\n",
              "      <th style=\"min-width: {};\"></th>\n",
              "      <th style=\"min-width: {};\">Номер связки</th>\n",
              "      <th style=\"min-width: {};\">Вопросы</th>\n",
              "      <th style=\"min-width: {};\">Preprocessed</th>\n",
              "      <th style=\"min-width: {};\">Natasha</th>\n",
              "      <th style=\"min-width: {};\">DeepPavlov</th>\n",
              "    </tr>\n",
              "  </thead>\n",
              "  <tbody>\n",
              "    <tr>\n",
              "      <th>0</th>\n",
              "      <td>57.0</td>\n",
              "      <td>У ребенка в школе продлили каникулы. Могу ли я...</td>\n",
              "      <td>ребёнок школа продлить каникулы мочь взять бол...</td>\n",
              "      <td>ребёнок школа продлить каникулы мочь взять бол...</td>\n",
              "      <td>ребёнок школа продлить каникулы мочь взять бол...</td>\n",
              "    </tr>\n",
              "    <tr>\n",
              "      <th>1</th>\n",
              "      <td>57.0</td>\n",
              "      <td>Больничный лист?</td>\n",
              "      <td>больничный лист</td>\n",
              "      <td>больничный лист</td>\n",
              "      <td>больничный лист</td>\n",
              "    </tr>\n",
              "    <tr>\n",
              "      <th>2</th>\n",
              "      <td>57.0</td>\n",
              "      <td>Есть ли компенсация, в случае если есть разниц...</td>\n",
              "      <td>компенсация случай разница оплата больничный з...</td>\n",
              "      <td>компенсация случай разница оплата больничный з...</td>\n",
              "      <td>компенсация случай разница оплата больничный з...</td>\n",
              "    </tr>\n",
              "    <tr>\n",
              "      <th>3</th>\n",
              "      <td>57.0</td>\n",
              "      <td>как оплачивается больничный при коронавирусе?</td>\n",
              "      <td>оплачиваться больничный коронавирус</td>\n",
              "      <td>оплачиваться больничный коронавирус</td>\n",
              "      <td>оплачиваться больничный коронавирус</td>\n",
              "    </tr>\n",
              "    <tr>\n",
              "      <th>4</th>\n",
              "      <td>57.0</td>\n",
              "      <td>Я контактный, дадут ли больничный?</td>\n",
              "      <td>контактный дать больничный</td>\n",
              "      <td>контактный дать больничный</td>\n",
              "      <td>контактный дать больничный</td>\n",
              "    </tr>\n",
              "  </tbody>\n",
              "</table>\n",
              "</div>"
            ],
            "text/plain": [
              "   Номер связки  ...                                         DeepPavlov\n",
              "0          57.0  ...  ребёнок школа продлить каникулы мочь взять бол...\n",
              "1          57.0  ...                                    больничный лист\n",
              "2          57.0  ...  компенсация случай разница оплата больничный з...\n",
              "3          57.0  ...                оплачиваться больничный коронавирус\n",
              "4          57.0  ...                         контактный дать больничный\n",
              "\n",
              "[5 rows x 5 columns]"
            ]
          },
          "metadata": {
            "tags": []
          },
          "execution_count": 40
        }
      ]
    },
    {
      "cell_type": "code",
      "metadata": {
        "id": "tzGXEXnfROgO"
      },
      "source": [
        "from sklearn.feature_extraction.text import TfidfVectorizer\n",
        "import numpy as np"
      ],
      "execution_count": 54,
      "outputs": []
    },
    {
      "cell_type": "code",
      "metadata": {
        "id": "Iq3es24eQoiG"
      },
      "source": [
        "def make_tfidf(corpus):\n",
        "    vectorizer = TfidfVectorizer(stop_words=russian_stopwords)\n",
        "    X = vectorizer.fit_transform(corpus)\n",
        "    tfidf = pd.DataFrame(X.A, columns=vectorizer.get_feature_names())\n",
        "    return tfidf, vectorizer\n",
        "\n",
        "\n",
        "def get_similar(query, vectorizer, tfidf_matrix, corpus):\n",
        "    query_tfidf = vectorizer.transform([query]).toarray()\n",
        "    result = tfidf_matrix.to_numpy().dot(query_tfidf.transpose())\n",
        "    for i in np.argsort(result, axis=0)[::-1].transpose()[0]:\n",
        "        return corpus.iloc[i]['Номер связки']"
      ],
      "execution_count": 55,
      "outputs": []
    },
    {
      "cell_type": "code",
      "metadata": {
        "id": "-C6wyM-mQxAy"
      },
      "source": [
        "data_train, data_test = data[:2200], data[2200:]"
      ],
      "execution_count": 56,
      "outputs": []
    },
    {
      "cell_type": "code",
      "metadata": {
        "id": "W5VRuMlTRD9y"
      },
      "source": [
        "tfidf_p, vec_p = make_tfidf(data_train.Preprocessed)\n",
        "data_test['TfIdf_Pred'] = data_test.apply(lambda x: get_similar(x.Preprocessed, vec_p, tfidf_p, data_train), axis=1)"
      ],
      "execution_count": null,
      "outputs": []
    },
    {
      "cell_type": "code",
      "metadata": {
        "id": "AnINJ8Jvd_nc"
      },
      "source": [
        "tfidf_n, vec_n = make_tfidf(data_train.Natasha)\n",
        "data_test['TfIdf_Natasha_Pred'] = data_test.apply(lambda x: get_similar(x.Natasha, vec_n, tfidf_n, data_train), axis=1)"
      ],
      "execution_count": null,
      "outputs": []
    },
    {
      "cell_type": "code",
      "metadata": {
        "id": "9Tucte1seqa1"
      },
      "source": [
        "tfidf_d, vec_d = make_tfidf(data_train.DeepPavlov)\n",
        "data_test['TfIdf_DP_Pred'] = data_test.apply(lambda x: get_similar(x.DeepPavlov, vec_d, tfidf_d, data_train), axis=1)"
      ],
      "execution_count": null,
      "outputs": []
    },
    {
      "cell_type": "code",
      "metadata": {
        "id": "ismj-UH-f0Xa"
      },
      "source": [
        "from sklearn.feature_extraction.text import CountVectorizer\n",
        "from math import log"
      ],
      "execution_count": 65,
      "outputs": []
    },
    {
      "cell_type": "code",
      "metadata": {
        "id": "L7hru6M8V0Km"
      },
      "source": [
        "def bm25(item, avgdl, ld, k=2.0, b=0.75) -> float:\n",
        "    score = (item * (k + 1)) / (item + k * (1 - b + ((b * ld) / avgdl)))\n",
        "    return score\n",
        "\n",
        "\n",
        "def get_bm(N, tf, avgdl, ld):\n",
        "    bm = np.zeros((N, tf.shape[1]))\n",
        "    for i in range(N):\n",
        "        bm[i] = [bm25(word[i], avgdl, ld[i]) for word in tf.T]\n",
        "    return bm\n",
        "\n",
        "\n",
        "def get_similar_bm(query, vectorizer, corpus, bm, idf):\n",
        "    query_vec = vectorizer.transform([query]).toarray() * idf\n",
        "    result = bm.dot(query_vec.transpose())\n",
        "    \n",
        "    for i in np.argsort(result, axis=0)[::-1].transpose()[0]:\n",
        "        return corpus.iloc[i]['Номер связки']"
      ],
      "execution_count": 66,
      "outputs": []
    },
    {
      "cell_type": "code",
      "metadata": {
        "id": "FkNnqzy3hPES"
      },
      "source": [
        "k = 2.0\n",
        "b = 0.75"
      ],
      "execution_count": 67,
      "outputs": []
    },
    {
      "cell_type": "code",
      "metadata": {
        "id": "4D-Zz1aWvCY2"
      },
      "source": [
        "data_train.Preprocessed.fillna('', inplace=True)\n",
        "\n",
        "corpus = data_train.Preprocessed\n",
        "\n",
        "count_vectorizer = CountVectorizer()\n",
        "tf = count_vectorizer.fit_transform(corpus).toarray()\n",
        "\n",
        "N = len(tf)\n",
        "lens = 0\n",
        "ld = []\n",
        "for text in corpus:\n",
        "    l = len(text.split())\n",
        "    lens += l\n",
        "    ld.append(l)\n",
        "avgdl = lens / N\n",
        "ld = np.array(ld)\n",
        "\n",
        "n_qi = [len(word.nonzero()[0]) for word in tf.T]\n",
        "idf = [log((N - n_qi[i] + 0.5)/(n_qi[i] + 0.5)) for i in range(len(n_qi))]"
      ],
      "execution_count": 68,
      "outputs": []
    },
    {
      "cell_type": "code",
      "metadata": {
        "id": "e2Vp7mL6vCZK"
      },
      "source": [
        "bm = get_bm(N, tf, avgdl, ld)"
      ],
      "execution_count": 69,
      "outputs": []
    },
    {
      "cell_type": "code",
      "metadata": {
        "id": "E5FfdnsPvCZU",
        "outputId": "2d772a5a-f68a-427d-9e7b-719fe073371a",
        "colab": {
          "base_uri": "https://localhost:8080/",
          "height": 35
        }
      },
      "source": [
        "bm.shape"
      ],
      "execution_count": 70,
      "outputs": [
        {
          "output_type": "execute_result",
          "data": {
            "text/plain": [
              "(2200, 6029)"
            ]
          },
          "metadata": {
            "tags": []
          },
          "execution_count": 70
        }
      ]
    },
    {
      "cell_type": "code",
      "metadata": {
        "id": "oJDaQDBgvCZc"
      },
      "source": [
        "data_test['BM25_Pred'] = data_test.apply(lambda x: get_similar_bm(x.Preprocessed, count_vectorizer, data_train, bm, idf), axis=1)"
      ],
      "execution_count": 71,
      "outputs": []
    },
    {
      "cell_type": "code",
      "metadata": {
        "id": "t-2Z48-Ozmz3"
      },
      "source": [
        "data_train.Natasha.fillna('', inplace=True)\n",
        "\n",
        "corpus_n = data_train.Natasha\n",
        "\n",
        "count_vectorizer_n = CountVectorizer()\n",
        "tf_n = count_vectorizer_n.fit_transform(corpus_n).toarray()\n",
        "\n",
        "N_n = len(tf_n)\n",
        "lens_n = 0\n",
        "ld_n = []\n",
        "for text in corpus_n:\n",
        "    l = len(text.split())\n",
        "    lens_n += l\n",
        "    ld_n.append(l)\n",
        "avgdl_n = lens_n / N_n\n",
        "ld_n = np.array(ld_n)\n",
        "\n",
        "n_qi_n = [len(word.nonzero()[0]) for word in tf_n.T]\n",
        "idf_n = [log((N_n - n_qi_n[i] + 0.5)/(n_qi_n[i] + 0.5)) for i in range(len(n_qi_n))]"
      ],
      "execution_count": 72,
      "outputs": []
    },
    {
      "cell_type": "code",
      "metadata": {
        "id": "XOXYc64_azLn"
      },
      "source": [
        "bm_n = get_bm(N_n, tf_n, avgdl_n, ld_n)"
      ],
      "execution_count": 73,
      "outputs": []
    },
    {
      "cell_type": "code",
      "metadata": {
        "id": "D-JRRcV5eRWJ",
        "outputId": "c1f63276-47ea-482c-feba-b3c7b43b9863",
        "colab": {
          "base_uri": "https://localhost:8080/",
          "height": 35
        }
      },
      "source": [
        "bm_n.shape"
      ],
      "execution_count": 74,
      "outputs": [
        {
          "output_type": "execute_result",
          "data": {
            "text/plain": [
              "(2200, 5237)"
            ]
          },
          "metadata": {
            "tags": []
          },
          "execution_count": 74
        }
      ]
    },
    {
      "cell_type": "code",
      "metadata": {
        "id": "Ck-A7IwY2fCF"
      },
      "source": [
        "data_test['BM25_Natasha_Pred'] = data_test.apply(lambda x: get_similar_bm(x.Natasha, count_vectorizer_n, data_train, bm_n, idf_n), axis=1)"
      ],
      "execution_count": 75,
      "outputs": []
    },
    {
      "cell_type": "code",
      "metadata": {
        "id": "xK68RzAqxPnB"
      },
      "source": [
        "data_train.DeepPavlov.fillna('', inplace=True)\n",
        "\n",
        "corpus_d = data_train.DeepPavlov\n",
        "\n",
        "count_vectorizer_d = CountVectorizer()\n",
        "tf_d = count_vectorizer_d.fit_transform(corpus_d).toarray()\n",
        "\n",
        "N_d = len(tf_d)\n",
        "lens_d = 0\n",
        "ld_d = []\n",
        "for text in corpus_d:\n",
        "    l = len(text.split())\n",
        "    lens_d += l\n",
        "    ld_d.append(l)\n",
        "avgdl_d = lens_d / N_d\n",
        "ld_d = np.array(ld_d)\n",
        "\n",
        "n_qi_d = [len(word.nonzero()[0]) for word in tf_d.T]\n",
        "idf_d = [log((N_d - n_qi_d[i] + 0.5)/(n_qi_d[i] + 0.5)) for i in range(len(n_qi_d))]"
      ],
      "execution_count": 76,
      "outputs": []
    },
    {
      "cell_type": "code",
      "metadata": {
        "id": "vCIqpNnmxPnV"
      },
      "source": [
        "bm_d = get_bm(N_d, tf_d, avgdl_d, ld_d)"
      ],
      "execution_count": 77,
      "outputs": []
    },
    {
      "cell_type": "code",
      "metadata": {
        "id": "EFBjg0xqxPnj",
        "outputId": "dab75ff9-9a50-4a14-c22a-667de941a326",
        "colab": {
          "base_uri": "https://localhost:8080/",
          "height": 35
        }
      },
      "source": [
        "bm_d.shape"
      ],
      "execution_count": 78,
      "outputs": [
        {
          "output_type": "execute_result",
          "data": {
            "text/plain": [
              "(2200, 4517)"
            ]
          },
          "metadata": {
            "tags": []
          },
          "execution_count": 78
        }
      ]
    },
    {
      "cell_type": "code",
      "metadata": {
        "id": "Ofqvhy4exPns"
      },
      "source": [
        "data_test['BM25_DP_Pred'] = data_test.apply(lambda x: get_similar_bm(x.DeepPavlov, count_vectorizer_d, data_train, bm_d, idf_d), axis=1)"
      ],
      "execution_count": 79,
      "outputs": []
    },
    {
      "cell_type": "markdown",
      "metadata": {
        "id": "XAkr_Zec0k1J"
      },
      "source": [
        "Accuracy для TF-IDF без удаления NER:"
      ]
    },
    {
      "cell_type": "code",
      "metadata": {
        "id": "aXHhmfXuk_Qy",
        "outputId": "78fbd9d9-f173-4d07-8ee8-feca0b94039c",
        "colab": {
          "base_uri": "https://localhost:8080/",
          "height": 35
        }
      },
      "source": [
        "len(data_test[data_test['Номер связки'] == data_test.TfIdf_Pred]) / len(data_test)"
      ],
      "execution_count": 81,
      "outputs": [
        {
          "output_type": "execute_result",
          "data": {
            "text/plain": [
              "0.5136363636363637"
            ]
          },
          "metadata": {
            "tags": []
          },
          "execution_count": 81
        }
      ]
    },
    {
      "cell_type": "markdown",
      "metadata": {
        "id": "w922BvzZ0xd0"
      },
      "source": [
        "Accuracy для TF-IDF после удаления NER с помощью Natasha:"
      ]
    },
    {
      "cell_type": "code",
      "metadata": {
        "id": "80VIMgOklK3B",
        "outputId": "931f3f5f-a042-46fc-c449-f18cdb127b03",
        "colab": {
          "base_uri": "https://localhost:8080/",
          "height": 35
        }
      },
      "source": [
        "len(data_test[data_test['Номер связки'] == data_test.TfIdf_Natasha_Pred]) / len(data_test)"
      ],
      "execution_count": 82,
      "outputs": [
        {
          "output_type": "execute_result",
          "data": {
            "text/plain": [
              "0.5"
            ]
          },
          "metadata": {
            "tags": []
          },
          "execution_count": 82
        }
      ]
    },
    {
      "cell_type": "markdown",
      "metadata": {
        "id": "brcU9y4X0x4W"
      },
      "source": [
        "Accuracy для TF-IDF после удаления NER с помощью DeepPavlov:"
      ]
    },
    {
      "cell_type": "code",
      "metadata": {
        "id": "7h6s5pLelK7T",
        "outputId": "48dc8fee-864a-4429-ea34-151b0701dca2",
        "colab": {
          "base_uri": "https://localhost:8080/",
          "height": 35
        }
      },
      "source": [
        "len(data_test[data_test['Номер связки'] == data_test.TfIdf_DP_Pred]) / len(data_test)"
      ],
      "execution_count": 83,
      "outputs": [
        {
          "output_type": "execute_result",
          "data": {
            "text/plain": [
              "0.4909090909090909"
            ]
          },
          "metadata": {
            "tags": []
          },
          "execution_count": 83
        }
      ]
    },
    {
      "cell_type": "markdown",
      "metadata": {
        "id": "GjVfbhEa1Djz"
      },
      "source": [
        "Accuracy для BM25 без удаления NER"
      ]
    },
    {
      "cell_type": "code",
      "metadata": {
        "id": "t64VBqrpzzcS",
        "outputId": "a97f3343-4e4e-4a3c-a5d8-eb656e8c073a",
        "colab": {
          "base_uri": "https://localhost:8080/",
          "height": 35
        }
      },
      "source": [
        "len(data_test[data_test['Номер связки'] == data_test.BM25_Pred]) / len(data_test)"
      ],
      "execution_count": 84,
      "outputs": [
        {
          "output_type": "execute_result",
          "data": {
            "text/plain": [
              "0.5511363636363636"
            ]
          },
          "metadata": {
            "tags": []
          },
          "execution_count": 84
        }
      ]
    },
    {
      "cell_type": "markdown",
      "metadata": {
        "id": "tPkvPsbS1Gl3"
      },
      "source": [
        "Accuracy для BM25 после удаления NER с помощью Natasha"
      ]
    },
    {
      "cell_type": "code",
      "metadata": {
        "id": "REpAEF-Ozzcr",
        "outputId": "ede97d2c-904e-407a-e860-58cbbc4fc6b7",
        "colab": {
          "base_uri": "https://localhost:8080/",
          "height": 35
        }
      },
      "source": [
        "len(data_test[data_test['Номер связки'] == data_test.BM25_Natasha_Pred]) / len(data_test)"
      ],
      "execution_count": 85,
      "outputs": [
        {
          "output_type": "execute_result",
          "data": {
            "text/plain": [
              "0.5511363636363636"
            ]
          },
          "metadata": {
            "tags": []
          },
          "execution_count": 85
        }
      ]
    },
    {
      "cell_type": "markdown",
      "metadata": {
        "id": "KBvisGmQ1Lyu"
      },
      "source": [
        "Accuracy для BM25 после удаления NER с помощью DeepPavlov"
      ]
    },
    {
      "cell_type": "code",
      "metadata": {
        "id": "0HfflSZ3zzcz",
        "outputId": "b312a7e5-39f7-48a8-920b-b13dceaea6ae",
        "colab": {
          "base_uri": "https://localhost:8080/",
          "height": 35
        }
      },
      "source": [
        "len(data_test[data_test['Номер связки'] == data_test.BM25_DP_Pred]) / len(data_test)"
      ],
      "execution_count": 86,
      "outputs": [
        {
          "output_type": "execute_result",
          "data": {
            "text/plain": [
              "0.5363636363636364"
            ]
          },
          "metadata": {
            "tags": []
          },
          "execution_count": 86
        }
      ]
    },
    {
      "cell_type": "markdown",
      "metadata": {
        "id": "4aQUV7xLZCXW"
      },
      "source": [
        "### __Задача 3__:    \n",
        "Улучшить правила в natasha. Написать правила, которые ловят даты в следующих примерах и пересчитать статистику из Задачи 2:\n",
        "- Уехал 8-9 ноября в Сочи\n",
        "- Уезжаю 5 числа                           \n",
        "- 20го сентября заболел\n",
        "\n",
        "Пример можно посмотреть тут: https://github.com/natasha/yargy"
      ]
    },
    {
      "cell_type": "code",
      "metadata": {
        "id": "BH-kAzgP3aht",
        "outputId": "2465c372-0dc8-4a97-e756-4b751b318184",
        "colab": {
          "base_uri": "https://localhost:8080/",
          "height": 106
        }
      },
      "source": [
        "! pip install yargy"
      ],
      "execution_count": 87,
      "outputs": [
        {
          "output_type": "stream",
          "text": [
            "Requirement already satisfied: yargy in /usr/local/lib/python3.6/dist-packages (0.14.0)\n",
            "Requirement already satisfied: pymorphy2 in /usr/local/lib/python3.6/dist-packages (from yargy) (0.8)\n",
            "Requirement already satisfied: docopt>=0.6 in /usr/local/lib/python3.6/dist-packages (from pymorphy2->yargy) (0.6.2)\n",
            "Requirement already satisfied: dawg-python>=0.7 in /usr/local/lib/python3.6/dist-packages (from pymorphy2->yargy) (0.7.2)\n",
            "Requirement already satisfied: pymorphy2-dicts<3.0,>=2.4 in /usr/local/lib/python3.6/dist-packages (from pymorphy2->yargy) (2.4.393442.3710985)\n"
          ],
          "name": "stdout"
        }
      ]
    },
    {
      "cell_type": "code",
      "metadata": {
        "id": "75QGW7HMZCXY"
      },
      "source": [
        "from yargy import Parser, rule, and_, or_\n",
        "from yargy.interpretation import fact\n",
        "from yargy.predicates import (\n",
        "    lte,\n",
        "    gte,\n",
        "    caseless,\n",
        "    dictionary\n",
        ")\n",
        "\n",
        "Date = fact(\n",
        "    'Date',\n",
        "    ['year', 'month', 'day']\n",
        ")\n",
        "\n",
        "MONTHS = {\n",
        "    'январь',\n",
        "    'февраль',\n",
        "    'март',\n",
        "    'апрель',\n",
        "    'май',\n",
        "    'июнь',\n",
        "    'июль',\n",
        "    'август',\n",
        "    'сентябрь',\n",
        "    'октябрь',\n",
        "    'ноябрь',\n",
        "    'декабрь'\n",
        "}\n",
        "\n",
        "MONTH_NAME = dictionary(MONTHS)\n",
        "DAY = and_(\n",
        "    gte(1),\n",
        "    lte(31)\n",
        ")\n",
        "DATE = or_(\n",
        "    rule(\n",
        "        DAY.interpretation(\n",
        "            Date.day\n",
        "            ),\n",
        "        'го',\n",
        "        MONTH_NAME.interpretation(\n",
        "            Date.month\n",
        "        )\n",
        "    ),\n",
        "    rule(\n",
        "        DAY.interpretation(\n",
        "            Date.day\n",
        "            ),\n",
        "         caseless('числа')\n",
        "    ),\n",
        "    rule(\n",
        "        DAY.interpretation(\n",
        "            Date.day\n",
        "            ),\n",
        "        '-',\n",
        "        DAY.interpretation(\n",
        "            Date.day\n",
        "            ),\n",
        "        MONTH_NAME.interpretation(\n",
        "            Date.month\n",
        "        )\n",
        "    )\n",
        ").named('DATE')\n",
        "parser = Parser(DATE)"
      ],
      "execution_count": 88,
      "outputs": []
    },
    {
      "cell_type": "code",
      "metadata": {
        "id": "Qk_mdTsUWfEV"
      },
      "source": [
        "import yargy\n",
        "from natasha import (\n",
        "    Segmenter,\n",
        "    MorphVocab,\n",
        "    \n",
        "    NewsEmbedding,\n",
        "    NewsMorphTagger,\n",
        "    NewsSyntaxParser,\n",
        "    NewsNERTagger,\n",
        "    \n",
        "    PER,\n",
        "    DatesExtractor,\n",
        "    MoneyExtractor,\n",
        "    AddrExtractor,\n",
        "\n",
        "    Doc\n",
        ")\n",
        "\n",
        "segmenter = Segmenter()\n",
        "\n",
        "morph_vocab = MorphVocab()\n",
        "\n",
        "emb = NewsEmbedding()\n",
        "morph_tagger = NewsMorphTagger(emb)\n",
        "syntax_parser = NewsSyntaxParser(emb)\n",
        "ner_tagger = NewsNERTagger(emb)"
      ],
      "execution_count": 90,
      "outputs": []
    },
    {
      "cell_type": "code",
      "metadata": {
        "id": "8_dsJTGmWfEn"
      },
      "source": [
        "dates_extractor = DatesExtractor(morph_vocab)\n",
        "money_extractor = MoneyExtractor(morph_vocab)\n",
        "addr_extractor = AddrExtractor(morph_vocab)"
      ],
      "execution_count": 91,
      "outputs": []
    },
    {
      "cell_type": "code",
      "metadata": {
        "id": "ouSci0zOWfEv"
      },
      "source": [
        "extractors = [\n",
        "              dates_extractor,\n",
        "              money_extractor,\n",
        "              addr_extractor,\n",
        "]\n",
        "\n",
        "def preprocess_with_natasha(text: str) -> str:\n",
        "\n",
        "    doc = Doc(text)\n",
        "\n",
        "    doc.segment(segmenter)\n",
        "    doc.tag_morph(morph_tagger)\n",
        "    doc.parse_syntax(syntax_parser)\n",
        "    doc.tag_ner(ner_tagger)\n",
        "\n",
        "    id = []\n",
        "    for match in parser.findall(text):\n",
        "        id.append((match.span.start, match.span.stop))\n",
        "    for pair in sorted(id)[::-1]:\n",
        "        text = text[:pair[0]] + text[pair[1]:]\n",
        "\n",
        "    indices = []\n",
        "    for span in doc.spans:\n",
        "        if span.type == \"PER\":\n",
        "            indices.append((span.start, span.stop))\n",
        "    for pair in sorted(indices)[::-1]:\n",
        "        text = text[:pair[0]] + text[pair[1]:]\n",
        "\n",
        "    for extractor in extractors:\n",
        "        idx = []\n",
        "        for match in list(extractor(text)):\n",
        "            idx.append((match.start, match.stop))\n",
        "        for pair in sorted(idx)[::-1]:\n",
        "            text = text[:pair[0]] + text[pair[1]:]\n",
        "    \n",
        "    return text"
      ],
      "execution_count": 109,
      "outputs": []
    },
    {
      "cell_type": "code",
      "metadata": {
        "id": "jyVZ0xDQYOn7",
        "outputId": "07a6b4ac-ed97-44cb-a86c-4775ffc542f5",
        "colab": {
          "base_uri": "https://localhost:8080/",
          "height": 67,
          "referenced_widgets": [
            "adb76dace7944db4a4fdc6346ac37f32",
            "b6147c7230c54649b56e2461c2b3b1e6",
            "8373c86483374d1b9d82c183319641dc",
            "319d27f2ae75466aacd87aecf481a541",
            "95bca0dca7df4791ace3bfdbd103b698",
            "d434c265f23742c6a81c1376184d6906",
            "96f8adf243cd4aba9313a6951c6c3f21",
            "7a0d9ca8f3254108a069ab3127ed16dc"
          ]
        }
      },
      "source": [
        "data_train['Natasha_New'] = data_train['Вопросы'].progress_apply(lambda text: ' '.join(preprocess(preprocess_with_natasha(str(text)))))"
      ],
      "execution_count": 112,
      "outputs": [
        {
          "output_type": "display_data",
          "data": {
            "application/vnd.jupyter.widget-view+json": {
              "model_id": "adb76dace7944db4a4fdc6346ac37f32",
              "version_minor": 0,
              "version_major": 2
            },
            "text/plain": [
              "HBox(children=(FloatProgress(value=0.0, max=2200.0), HTML(value='')))"
            ]
          },
          "metadata": {
            "tags": []
          }
        },
        {
          "output_type": "stream",
          "text": [
            "\n"
          ],
          "name": "stdout"
        }
      ]
    },
    {
      "cell_type": "code",
      "metadata": {
        "id": "cd6HpSN-YgPS",
        "outputId": "6f10a350-0157-45d3-f04a-9a32b48696e4",
        "colab": {
          "base_uri": "https://localhost:8080/",
          "height": 67,
          "referenced_widgets": [
            "c93c437903224db491943b5267b2b8e4",
            "bf01483462b544f0a9befd2e73b4b86f",
            "601a954563ab42e38c718bf0c62e0f3f",
            "7f7a7a0cf9c448cb827ff5889a781529",
            "cd31cb67446f4c96979c588bfb96be38",
            "dc755f3fb48144048e1440ce7706bc97",
            "b6069bdf7b9044118adecddcd32164a2",
            "6efec254b1ad481bba8a90cf998b3306"
          ]
        }
      },
      "source": [
        "data_test['Natasha_New'] = data_test['Вопросы'].progress_apply(lambda text: ' '.join(preprocess(preprocess_with_natasha(str(text)))))"
      ],
      "execution_count": 113,
      "outputs": [
        {
          "output_type": "display_data",
          "data": {
            "application/vnd.jupyter.widget-view+json": {
              "model_id": "c93c437903224db491943b5267b2b8e4",
              "version_minor": 0,
              "version_major": 2
            },
            "text/plain": [
              "HBox(children=(FloatProgress(value=0.0, max=880.0), HTML(value='')))"
            ]
          },
          "metadata": {
            "tags": []
          }
        },
        {
          "output_type": "stream",
          "text": [
            "\n"
          ],
          "name": "stdout"
        }
      ]
    },
    {
      "cell_type": "code",
      "metadata": {
        "id": "sCbjdUBDYgPd"
      },
      "source": [
        "tfidf_nn, vec_nn = make_tfidf(data_train.Natasha_New)\n",
        "data_test['TfIdf_Natasha_New_Pred'] = data_test.apply(lambda x: get_similar(x.Natasha_New, vec_nn, tfidf_nn, data_train), axis=1)"
      ],
      "execution_count": 114,
      "outputs": []
    },
    {
      "cell_type": "code",
      "metadata": {
        "id": "sEo1tPtyZBAP"
      },
      "source": [
        "data_train.Natasha_New.fillna('', inplace=True)\n",
        "\n",
        "corpus_nn = data_train.Natasha_New\n",
        "\n",
        "count_vectorizer_nn = CountVectorizer()\n",
        "tf_nn = count_vectorizer_nn.fit_transform(corpus_nn).toarray()\n",
        "\n",
        "N_nn = len(tf_nn)\n",
        "lens_nn = 0\n",
        "ld_nn = []\n",
        "for text in corpus_nn:\n",
        "    l = len(text.split())\n",
        "    lens_nn += l\n",
        "    ld_nn.append(l)\n",
        "avgdl_nn = lens_nn / N_nn\n",
        "ld_nn = np.array(ld_nn)\n",
        "\n",
        "n_qi_nn = [len(word.nonzero()[0]) for word in tf_nn.T]\n",
        "idf_nn = [log((N_nn - n_qi_nn[i] + 0.5)/(n_qi_nn[i] + 0.5)) for i in range(len(n_qi_nn))]"
      ],
      "execution_count": 115,
      "outputs": []
    },
    {
      "cell_type": "code",
      "metadata": {
        "id": "khWbh8CmZBAq"
      },
      "source": [
        "bm_nn = get_bm(N_nn, tf_nn, avgdl_nn, ld_nn)"
      ],
      "execution_count": 116,
      "outputs": []
    },
    {
      "cell_type": "code",
      "metadata": {
        "id": "ygPCIwjNZBA4",
        "outputId": "fa736359-bb4c-45da-c5c8-ce07e0c4cd90",
        "colab": {
          "base_uri": "https://localhost:8080/",
          "height": 35
        }
      },
      "source": [
        "bm_nn.shape"
      ],
      "execution_count": 117,
      "outputs": [
        {
          "output_type": "execute_result",
          "data": {
            "text/plain": [
              "(2200, 5255)"
            ]
          },
          "metadata": {
            "tags": []
          },
          "execution_count": 117
        }
      ]
    },
    {
      "cell_type": "code",
      "metadata": {
        "id": "RJqpQDT0ZBBL"
      },
      "source": [
        "data_test['BM25_Natasha_New_Pred'] = data_test.apply(lambda x: get_similar_bm(x.Natasha_New, count_vectorizer_nn, data_train, bm_nn, idf_nn), axis=1)"
      ],
      "execution_count": 118,
      "outputs": []
    },
    {
      "cell_type": "code",
      "metadata": {
        "id": "gDJSuv1TZcIU",
        "outputId": "4efca64d-3c86-4342-e18b-1be4ad0ae970",
        "colab": {
          "base_uri": "https://localhost:8080/",
          "height": 952
        }
      },
      "source": [
        "data_test.sample(10)"
      ],
      "execution_count": 119,
      "outputs": [
        {
          "output_type": "execute_result",
          "data": {
            "text/html": [
              "<div>\n",
              "<style scoped>\n",
              "    .dataframe tbody tr th:only-of-type {\n",
              "        vertical-align: middle;\n",
              "    }\n",
              "\n",
              "    .dataframe tbody tr th {\n",
              "        vertical-align: top;\n",
              "    }\n",
              "\n",
              "    .dataframe thead th {\n",
              "        text-align: right;\n",
              "    }\n",
              "</style>\n",
              "<table border=\"1\" class=\"dataframe\">\n",
              "  <thead>\n",
              "    <tr style=\"text-align: right;\">\n",
              "      <th></th>\n",
              "      <th>Номер связки</th>\n",
              "      <th>Вопросы</th>\n",
              "      <th>Preprocessed</th>\n",
              "      <th>Natasha</th>\n",
              "      <th>DeepPavlov</th>\n",
              "      <th>TfIdf_Pred</th>\n",
              "      <th>TfIdf_Natasha_Pred</th>\n",
              "      <th>TfIdf_DP_Pred</th>\n",
              "      <th>BM25_Pred</th>\n",
              "      <th>BM25_Natasha_Pred</th>\n",
              "      <th>BM25_DP_Pred</th>\n",
              "      <th>Natasha_New</th>\n",
              "      <th>TfIdf_Natasha_New_Pred</th>\n",
              "      <th>BM25_Natasha_New_Pred</th>\n",
              "    </tr>\n",
              "  </thead>\n",
              "  <tbody>\n",
              "    <tr>\n",
              "      <th>2992</th>\n",
              "      <td>1.0</td>\n",
              "      <td>Добрый день. Сегодня на моего ребенка в школу ...</td>\n",
              "      <td>добрый день сегодня ребёнок школа поступить пи...</td>\n",
              "      <td>добрый день сегодня ребёнок школа поступить пи...</td>\n",
              "      <td>добрый день сегодня ребёнок школа поступить пи...</td>\n",
              "      <td>1</td>\n",
              "      <td>257.0</td>\n",
              "      <td>257.0</td>\n",
              "      <td>1.0</td>\n",
              "      <td>1.0</td>\n",
              "      <td>1.0</td>\n",
              "      <td>добрый день сегодня ребёнок школа поступить пи...</td>\n",
              "      <td>257.0</td>\n",
              "      <td>1.0</td>\n",
              "    </tr>\n",
              "    <tr>\n",
              "      <th>2558</th>\n",
              "      <td>1.0</td>\n",
              "      <td>Здравствуйте, у меня положительный тест на cov...</td>\n",
              "      <td>здравствовать положительный тест covid нужно в...</td>\n",
              "      <td>здравствовать положительный тест covid нужно в...</td>\n",
              "      <td>здравствовать положительный тест covid нужно в...</td>\n",
              "      <td>57</td>\n",
              "      <td>57.0</td>\n",
              "      <td>57.0</td>\n",
              "      <td>12.0</td>\n",
              "      <td>12.0</td>\n",
              "      <td>12.0</td>\n",
              "      <td>здравствовать положительный тест covid нужно в...</td>\n",
              "      <td>57.0</td>\n",
              "      <td>12.0</td>\n",
              "    </tr>\n",
              "    <tr>\n",
              "      <th>2869</th>\n",
              "      <td>308.0</td>\n",
              "      <td>\\nТогда ещё вопрос при вылете из РФ в я Турцию...</td>\n",
              "      <td>ещё вопрос вылет рф турция нужно сдавать анали...</td>\n",
              "      <td>ещё вопрос вылет турция нужно сдавать анализ к...</td>\n",
              "      <td>ещё вопрос вылет нужно сдавать анализ ковид от...</td>\n",
              "      <td>308</td>\n",
              "      <td>308.0</td>\n",
              "      <td>308.0</td>\n",
              "      <td>308.0</td>\n",
              "      <td>308.0</td>\n",
              "      <td>308.0</td>\n",
              "      <td>ещё вопрос вылет турция нужно сдавать анализ к...</td>\n",
              "      <td>308.0</td>\n",
              "      <td>308.0</td>\n",
              "    </tr>\n",
              "    <tr>\n",
              "      <th>2767</th>\n",
              "      <td>308.0</td>\n",
              "      <td>ДОбрый день!\\n\\nя прилетел в воскресенье рано ...</td>\n",
              "      <td>добрый день прилететь воскресение рано утром ш...</td>\n",
              "      <td>добрый день прилететь воскресение рано утром ш...</td>\n",
              "      <td>добрый день прилететь воскресение рано утром п...</td>\n",
              "      <td>308</td>\n",
              "      <td>308.0</td>\n",
              "      <td>308.0</td>\n",
              "      <td>308.0</td>\n",
              "      <td>308.0</td>\n",
              "      <td>308.0</td>\n",
              "      <td>добрый день прилететь воскресение рано утром ш...</td>\n",
              "      <td>308.0</td>\n",
              "      <td>308.0</td>\n",
              "    </tr>\n",
              "    <tr>\n",
              "      <th>2864</th>\n",
              "      <td>308.0</td>\n",
              "      <td>Добрый день. Ребенок 3 года - нужен ли тест на...</td>\n",
              "      <td>добрый день ребёнок год нужный тест ковид возв...</td>\n",
              "      <td>добрый день ребёнок год нужный тест ковид возв...</td>\n",
              "      <td>добрый день ребёнок год нужный тест ковид возв...</td>\n",
              "      <td>12</td>\n",
              "      <td>12.0</td>\n",
              "      <td>12.0</td>\n",
              "      <td>12.0</td>\n",
              "      <td>308.0</td>\n",
              "      <td>12.0</td>\n",
              "      <td>добрый день ребёнок год нужный тест ковид возв...</td>\n",
              "      <td>12.0</td>\n",
              "      <td>308.0</td>\n",
              "    </tr>\n",
              "    <tr>\n",
              "      <th>2922</th>\n",
              "      <td>308.0</td>\n",
              "      <td>Добрый день!\\n\\nРазъясните пожалуйста такой мо...</td>\n",
              "      <td>добрый день разъяснить пожалуйста момент семья...</td>\n",
              "      <td>добрый день разъяснить пожалуйста момент семья...</td>\n",
              "      <td>добрый день разъяснить пожалуйста момент семья...</td>\n",
              "      <td>308</td>\n",
              "      <td>308.0</td>\n",
              "      <td>308.0</td>\n",
              "      <td>308.0</td>\n",
              "      <td>308.0</td>\n",
              "      <td>308.0</td>\n",
              "      <td>добрый день разъяснить пожалуйста момент семья...</td>\n",
              "      <td>308.0</td>\n",
              "      <td>308.0</td>\n",
              "    </tr>\n",
              "    <tr>\n",
              "      <th>2511</th>\n",
              "      <td>308.0</td>\n",
              "      <td>Здравствуйте!\\nЯ уезжаю в отпуск в Абхазию в с...</td>\n",
              "      <td>здравствовать уезжать отпуск абхазия сентябрь ...</td>\n",
              "      <td>здравствовать уезжать отпуск абхазия возвращен...</td>\n",
              "      <td>здравствовать уезжать отпуск сентябрь год возв...</td>\n",
              "      <td>308</td>\n",
              "      <td>308.0</td>\n",
              "      <td>308.0</td>\n",
              "      <td>286.0</td>\n",
              "      <td>286.0</td>\n",
              "      <td>37.0</td>\n",
              "      <td>здравствовать уезжать отпуск абхазия возвращен...</td>\n",
              "      <td>308.0</td>\n",
              "      <td>286.0</td>\n",
              "    </tr>\n",
              "    <tr>\n",
              "      <th>2676</th>\n",
              "      <td>308.0</td>\n",
              "      <td>Добрый день!\\nВчера 30.08.2020 я прилетел из Т...</td>\n",
              "      <td>добрый день вчера прилететь турция аэропорт пу...</td>\n",
              "      <td>добрый день вчера прилететь турция аэропорт пу...</td>\n",
              "      <td>добрый день вчера прилететь аэропорт финансовы...</td>\n",
              "      <td>12</td>\n",
              "      <td>12.0</td>\n",
              "      <td>12.0</td>\n",
              "      <td>12.0</td>\n",
              "      <td>12.0</td>\n",
              "      <td>1.0</td>\n",
              "      <td>добрый день вчера прилететь турция аэропорт пу...</td>\n",
              "      <td>12.0</td>\n",
              "      <td>12.0</td>\n",
              "    </tr>\n",
              "    <tr>\n",
              "      <th>2758</th>\n",
              "      <td>308.0</td>\n",
              "      <td>Это касается\\nГраждан Российской Федерации, пр...</td>\n",
              "      <td>это касаться гражданин российский федерация пр...</td>\n",
              "      <td>это касаться гражданин российский федерация пр...</td>\n",
              "      <td>это касаться гражданин прибывать территория во...</td>\n",
              "      <td>308</td>\n",
              "      <td>308.0</td>\n",
              "      <td>308.0</td>\n",
              "      <td>308.0</td>\n",
              "      <td>308.0</td>\n",
              "      <td>308.0</td>\n",
              "      <td>это касаться гражданин российский федерация пр...</td>\n",
              "      <td>308.0</td>\n",
              "      <td>308.0</td>\n",
              "    </tr>\n",
              "    <tr>\n",
              "      <th>2848</th>\n",
              "      <td>308.0</td>\n",
              "      <td>Добрый день! Вчера я с ребенком вернулась из-з...</td>\n",
              "      <td>добрый день вчера ребёнок вернуться из-за гран...</td>\n",
              "      <td>добрый день вчера ребёнок вернуться из-за гран...</td>\n",
              "      <td>добрый день вчера ребёнок вернуться граница де...</td>\n",
              "      <td>308</td>\n",
              "      <td>308.0</td>\n",
              "      <td>308.0</td>\n",
              "      <td>308.0</td>\n",
              "      <td>308.0</td>\n",
              "      <td>308.0</td>\n",
              "      <td>добрый день вчера ребёнок вернуться из-за гран...</td>\n",
              "      <td>308.0</td>\n",
              "      <td>308.0</td>\n",
              "    </tr>\n",
              "  </tbody>\n",
              "</table>\n",
              "</div>"
            ],
            "text/plain": [
              "      Номер связки  ... BM25_Natasha_New_Pred\n",
              "2992           1.0  ...                   1.0\n",
              "2558           1.0  ...                  12.0\n",
              "2869         308.0  ...                 308.0\n",
              "2767         308.0  ...                 308.0\n",
              "2864         308.0  ...                 308.0\n",
              "2922         308.0  ...                 308.0\n",
              "2511         308.0  ...                 286.0\n",
              "2676         308.0  ...                  12.0\n",
              "2758         308.0  ...                 308.0\n",
              "2848         308.0  ...                 308.0\n",
              "\n",
              "[10 rows x 14 columns]"
            ]
          },
          "metadata": {
            "tags": []
          },
          "execution_count": 119
        }
      ]
    },
    {
      "cell_type": "markdown",
      "metadata": {
        "id": "5l262_qca5Em"
      },
      "source": [
        "Accuracy для Tf-Idf после удаления NER с помощью Natasha с новыми правилами"
      ]
    },
    {
      "cell_type": "code",
      "metadata": {
        "id": "cqCuwrNga5Er",
        "outputId": "73ba61e7-42e8-4b03-ee42-4636f2048e01",
        "colab": {
          "base_uri": "https://localhost:8080/",
          "height": 35
        }
      },
      "source": [
        "len(data_test[data_test['Номер связки'] == data_test.TfIdf_Natasha_New_Pred]) / len(data_test)"
      ],
      "execution_count": 120,
      "outputs": [
        {
          "output_type": "execute_result",
          "data": {
            "text/plain": [
              "0.5"
            ]
          },
          "metadata": {
            "tags": []
          },
          "execution_count": 120
        }
      ]
    },
    {
      "cell_type": "markdown",
      "metadata": {
        "id": "9jJdHHGVa3uQ"
      },
      "source": [
        "Accuracy для BM25 после удаления NER с помощью Natasha с новыми правилами"
      ]
    },
    {
      "cell_type": "code",
      "metadata": {
        "id": "Ku8w6Fb_a3uU",
        "outputId": "0455f0d3-b0c8-4100-c0cc-8c65c03fc688",
        "colab": {
          "base_uri": "https://localhost:8080/",
          "height": 35
        }
      },
      "source": [
        "len(data_test[data_test['Номер связки'] == data_test.BM25_Natasha_New_Pred]) / len(data_test)"
      ],
      "execution_count": 121,
      "outputs": [
        {
          "output_type": "execute_result",
          "data": {
            "text/plain": [
              "0.5511363636363636"
            ]
          },
          "metadata": {
            "tags": []
          },
          "execution_count": 121
        }
      ]
    },
    {
      "cell_type": "markdown",
      "metadata": {
        "id": "opgsOPvHc915"
      },
      "source": [
        "Показатели лучше не стали, но некоторые ответы все-таки поменялись"
      ]
    },
    {
      "cell_type": "code",
      "metadata": {
        "id": "Ht4cdyWWd_7o",
        "outputId": "49e43aec-978e-4d44-8c91-75b3bff34ed4",
        "colab": {
          "base_uri": "https://localhost:8080/",
          "height": 35
        }
      },
      "source": [
        "len(data_test[data_test.BM25_Natasha_Pred != data_test.BM25_Natasha_New_Pred])"
      ],
      "execution_count": 125,
      "outputs": [
        {
          "output_type": "execute_result",
          "data": {
            "text/plain": [
              "4"
            ]
          },
          "metadata": {
            "tags": []
          },
          "execution_count": 125
        }
      ]
    },
    {
      "cell_type": "code",
      "metadata": {
        "id": "uQZAJ33peO5r",
        "outputId": "77d5ea39-bcaa-40dc-be21-46a8a2b3cbd8",
        "colab": {
          "base_uri": "https://localhost:8080/",
          "height": 35
        }
      },
      "source": [
        "len(data_test[data_test.TfIdf_Natasha_Pred != data_test.TfIdf_Natasha_New_Pred])"
      ],
      "execution_count": 126,
      "outputs": [
        {
          "output_type": "execute_result",
          "data": {
            "text/plain": [
              "3"
            ]
          },
          "metadata": {
            "tags": []
          },
          "execution_count": 126
        }
      ]
    }
  ]
}